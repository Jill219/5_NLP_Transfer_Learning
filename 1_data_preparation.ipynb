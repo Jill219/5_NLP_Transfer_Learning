{
 "cells": [
  {
   "cell_type": "code",
   "execution_count": 1,
   "metadata": {},
   "outputs": [],
   "source": [
    "import re\n",
    "import os\n",
    "import glob\n",
    "import shutil\n",
    "import requests\n",
    "import random\n",
    "import pandas as pd\n",
    "import nltk\n",
    "import pprint\n",
    "from nltk.tokenize import sent_tokenize\n",
    "from nltk.tokenize import word_tokenize\n",
    "from nltk.corpus import stopwords\n",
    "from nltk.stem.porter import *\n",
    "from nltk.stem.wordnet import WordNetLemmatizer\n",
    "from sklearn.utils import shuffle\n",
    "import matplotlib.pyplot as plt\n",
    "%matplotlib inline\n",
    "from wordcloud import WordCloud, STOPWORDS"
   ]
  },
  {
   "cell_type": "markdown",
   "metadata": {},
   "source": [
    "# 1. Data set path"
   ]
  },
  {
   "cell_type": "code",
   "execution_count": 2,
   "metadata": {},
   "outputs": [],
   "source": [
    "# Direction of raw data for training\n",
    "train_path=\"/Users/jill/Downloads/2019_fall_semester/personal_project/nltk_practice/2010_i2b2_data/training_data/\"\n",
    "# Direction of raw data for test\n",
    "test_path=\"/Users/jill/Downloads/2019_fall_semester/personal_project/nltk_practice/2010_i2b2_data/test_data/\"\n",
    "# Direction of annotated files\n",
    "tag_path=\"/Users/jill/Downloads/2019_fall_semester/personal_project/nltk_practice/2010_i2b2_data/annotated_file/\""
   ]
  },
  {
   "cell_type": "code",
   "execution_count": 3,
   "metadata": {},
   "outputs": [],
   "source": [
    "out_data_trainPath=\"/Users/jill/Downloads/2019_fall_semester/personal_project/nltk_practice/out_data/train/\"\n",
    "out_data_testPath=\"/Users/jill/Downloads/2019_fall_semester/personal_project/nltk_practice/out_data/test/\""
   ]
  },
  {
   "cell_type": "markdown",
   "metadata": {},
   "source": [
    "# 2. Filenamelist\n",
    "\n",
    "Make filenames and ID in dataset consistent."
   ]
  },
  {
   "cell_type": "code",
   "execution_count": 4,
   "metadata": {},
   "outputs": [],
   "source": [
    "trainfile_lst = [os.path.basename(file) for file in glob.iglob(train_path+'/*.txt')]\n",
    "testfile_lst = [os.path.basename(file) for file in glob.iglob(test_path+'/*.txt')]"
   ]
  },
  {
   "cell_type": "code",
   "execution_count": 5,
   "metadata": {},
   "outputs": [
    {
     "data": {
      "text/plain": [
       "['284487129.txt',\n",
       " '331144840.txt',\n",
       " 'record-51.txt',\n",
       " 'record-45.txt',\n",
       " '522011500_ELMVH.txt',\n",
       " '641987347_RWH.txt',\n",
       " '198175916.txt',\n",
       " 'record-107.txt',\n",
       " '213763231.txt',\n",
       " '719127931.txt',\n",
       " '558603822.txt',\n",
       " '812392414.txt',\n",
       " '848649595_SC.txt',\n",
       " '063739938_WGH.txt',\n",
       " 'record-106.txt',\n",
       " '020501989_DH.txt',\n",
       " '036855076.txt',\n",
       " '178557034_RWH.txt',\n",
       " '702802626.txt',\n",
       " '040059132.txt',\n",
       " '305038693.txt',\n",
       " '959086752.txt',\n",
       " '627258104.txt',\n",
       " '522222575.txt',\n",
       " '763428002.txt',\n",
       " '544677599.txt',\n",
       " 'record-50.txt',\n",
       " '814293840_PUMC.txt',\n",
       " '343254953.txt',\n",
       " '134300717.txt',\n",
       " 'record-46.txt',\n",
       " '284137413_TH.txt',\n",
       " 'record-52.txt',\n",
       " '578255201_EH.txt',\n",
       " '337702516_WGH.txt',\n",
       " '891864133_RWH.txt',\n",
       " '483275754_YC.txt',\n",
       " '262912613.txt',\n",
       " '384729825.txt',\n",
       " 'record-105.txt',\n",
       " '898228679_VH.txt',\n",
       " '782673825.txt',\n",
       " 'record-84.txt',\n",
       " '101407944_PUMC.txt',\n",
       " '186937457.txt',\n",
       " 'record-53.txt',\n",
       " 'record-47.txt',\n",
       " '839999049_YC.txt',\n",
       " '070203832_DH.txt',\n",
       " '517414339.txt',\n",
       " '914783811.txt',\n",
       " '649008161.txt',\n",
       " '619889567_DH.txt',\n",
       " '622086964.txt',\n",
       " 'record-80.txt',\n",
       " '910458031.txt',\n",
       " '544907529_RWH.txt',\n",
       " '701572223.txt',\n",
       " '202030902_SC.txt',\n",
       " '274237993.txt',\n",
       " '351853846_WGH.txt',\n",
       " '009786537_PUMC.txt',\n",
       " '878464010.txt',\n",
       " '105017243_EH.txt',\n",
       " '618630652_TH.txt',\n",
       " '638701643.txt',\n",
       " '884948991.txt',\n",
       " '699905656_SC.txt',\n",
       " 'record-81.txt',\n",
       " '442166632_DH.txt',\n",
       " 'record-56.txt',\n",
       " '402439112.txt',\n",
       " '377932938.txt',\n",
       " '843566350_RWH.txt',\n",
       " '274230067_EH.txt',\n",
       " '536196468.txt',\n",
       " '373254497_PUMC.txt',\n",
       " '212512774_WGH.txt',\n",
       " 'record-68.txt',\n",
       " 'record-54.txt',\n",
       " 'record-83.txt',\n",
       " '091433468_EH.txt',\n",
       " '188543380.txt',\n",
       " '620454779_DH.txt',\n",
       " '602064980.txt',\n",
       " '430403085_SC.txt',\n",
       " '914696614.txt',\n",
       " '137538418.txt',\n",
       " '306968218_YC.txt',\n",
       " '965367286_WGH.txt',\n",
       " '060376519_DH.txt',\n",
       " '176746010_WGH.txt',\n",
       " '778473862.txt',\n",
       " '867290496.txt',\n",
       " '748991871_ELMVH.txt',\n",
       " '288506174_ELMVH.txt',\n",
       " '347450640.txt',\n",
       " '454860720_WGH.txt',\n",
       " '172897359.txt',\n",
       " 'record-82.txt',\n",
       " '871417118.txt',\n",
       " '963151264.txt',\n",
       " 'record-55.txt',\n",
       " '853434910.txt',\n",
       " '373348761_SC.txt',\n",
       " 'record-69.txt',\n",
       " '182104879.txt',\n",
       " '974628880_YC.txt',\n",
       " '523704694.txt',\n",
       " '029190343_PUMC.txt',\n",
       " '223159990.txt',\n",
       " 'record-32.txt',\n",
       " '796077689.txt',\n",
       " 'record-26.txt',\n",
       " '614746156.txt',\n",
       " '099559497_PUMC.txt',\n",
       " '655358166_WGH.txt',\n",
       " '412141256.txt',\n",
       " '441466156_RWH.txt',\n",
       " '476664819_RWH.txt',\n",
       " '397313619.txt',\n",
       " '163688755.txt',\n",
       " '356529973_b.txt',\n",
       " '018639296_DH.txt',\n",
       " '897261359_EH.txt',\n",
       " 'record-27.txt',\n",
       " 'record-33.txt',\n",
       " '081039790_EH.txt',\n",
       " '162897541.txt',\n",
       " '407060601.txt',\n",
       " '701961096_WGH.txt',\n",
       " '289811204.txt',\n",
       " '694420471_WGH.txt',\n",
       " '474975814_YC.txt',\n",
       " '173436079.txt',\n",
       " '481168525_WGH.txt',\n",
       " 'record-25.txt',\n",
       " 'record-31.txt',\n",
       " 'record-19.txt',\n",
       " '625278302_YC.txt',\n",
       " '017655976.txt',\n",
       " '333521954.txt',\n",
       " '918582970.txt',\n",
       " '123547445.txt',\n",
       " '958173294.txt',\n",
       " '688127038_EH.txt',\n",
       " '555509347_PUMC.txt',\n",
       " '105732749.txt',\n",
       " '216595613.txt',\n",
       " '610047337.txt',\n",
       " '767751445_ELMVH.txt',\n",
       " 'record-18.txt',\n",
       " 'record-30.txt',\n",
       " '837847756.txt',\n",
       " 'record-24.txt',\n",
       " '757750881.txt',\n",
       " '503651854_WGH.txt',\n",
       " '488202469.txt',\n",
       " '130959255.txt',\n",
       " '455343475_PUMC.txt',\n",
       " '503230666.txt',\n",
       " '086513773.txt',\n",
       " '793183831_PUMC.txt',\n",
       " '145980160.txt',\n",
       " 'record-20.txt',\n",
       " 'record-34.txt',\n",
       " '879492218_YC.txt',\n",
       " '570594910.txt',\n",
       " '405507617.txt',\n",
       " '448099088.txt',\n",
       " '478865872.txt',\n",
       " '445912627_RWH.txt',\n",
       " 'record-176.txt',\n",
       " '664046245_ELMVH.txt',\n",
       " '814743340_RWH.txt',\n",
       " '270045381.txt',\n",
       " '509937884_SC.txt',\n",
       " '909677552.txt',\n",
       " '498710998.txt',\n",
       " '684476505_WGH.txt',\n",
       " '088719093_RWH.txt',\n",
       " '745701560_WGH.txt',\n",
       " '096160705.txt',\n",
       " '172352273_WGH.txt',\n",
       " 'record-177.txt',\n",
       " '151524518_SC.txt',\n",
       " '917989835_RWH.txt',\n",
       " '262473207.txt',\n",
       " '763248279.txt',\n",
       " 'record-35.txt',\n",
       " '511454195.txt',\n",
       " 'record-21.txt',\n",
       " '920798564.txt',\n",
       " '839084838.txt',\n",
       " '056209409_EH.txt',\n",
       " '304339727.txt',\n",
       " 'record-37.txt',\n",
       " 'record-23.txt',\n",
       " '129077954_RWH.txt',\n",
       " '057594022_DH.txt',\n",
       " '931376689_ELMVH.txt',\n",
       " '115026438_SC.txt',\n",
       " 'record-175.txt',\n",
       " '950841719.txt',\n",
       " '194442600_RWH.txt',\n",
       " '245096078.txt',\n",
       " '245317863_WGH.txt',\n",
       " '863228043_WGH.txt',\n",
       " '851842962.txt',\n",
       " '388755206_SC.txt',\n",
       " '403426241_EH.txt',\n",
       " '997390203.txt',\n",
       " '710832021.txt',\n",
       " '343728002.txt',\n",
       " '969157956.txt',\n",
       " '881708690.txt',\n",
       " '072844497.txt',\n",
       " '857888116.txt',\n",
       " '563315597_RWH.txt',\n",
       " 'record-22.txt',\n",
       " 'record-36.txt',\n",
       " '425093222.txt',\n",
       " '650057215.txt',\n",
       " '346176858_SC.txt',\n",
       " '168484101.txt',\n",
       " '702031153_YC.txt',\n",
       " 'record-13.txt',\n",
       " '825330116.txt',\n",
       " '433651389.txt',\n",
       " '487197293.txt',\n",
       " '853262744.txt',\n",
       " '037945397_RWH.txt',\n",
       " '158011729.txt',\n",
       " '988570172.txt',\n",
       " 'record-179.txt',\n",
       " '010760828.txt',\n",
       " '156406283.txt',\n",
       " '638157550_SC.txt',\n",
       " '119093641.txt',\n",
       " '745943853_SC.txt',\n",
       " '992985626.txt',\n",
       " '641557794_WGH.txt',\n",
       " 'record-144.txt',\n",
       " '308353658_PUMC.txt',\n",
       " 'record-178.txt',\n",
       " '688439328.txt',\n",
       " '812367409.txt',\n",
       " '908556207.txt',\n",
       " '893520441_WGH.txt',\n",
       " '888428725_RWH.txt',\n",
       " '483362264_WGH.txt',\n",
       " '113416550.txt',\n",
       " '867186785_WGH.txt',\n",
       " '844970557_RWH.txt',\n",
       " '817406016_RWH.txt',\n",
       " '726132880.txt',\n",
       " '693008750.txt',\n",
       " '598403789_DH.txt',\n",
       " 'record-38.txt',\n",
       " '369351488.txt',\n",
       " '561945916.txt',\n",
       " '955473368_RWH.txt',\n",
       " '745431641_WGH.txt',\n",
       " '493597270.txt',\n",
       " '323541974_PUMC.txt',\n",
       " '777225589_WGH.txt',\n",
       " '942840618.txt',\n",
       " '529051628_YC.txt',\n",
       " '286830043.txt',\n",
       " '740856208.txt',\n",
       " '718477487.txt',\n",
       " '320422564.txt',\n",
       " '935669761_PUMC.txt',\n",
       " '342570083.txt',\n",
       " '027264339_EH.txt',\n",
       " '149191520.txt',\n",
       " '517502848_ELMVH.txt',\n",
       " '929334185.txt',\n",
       " '355791626.txt',\n",
       " '977159532.txt',\n",
       " 'record-29.txt',\n",
       " '972266371.txt',\n",
       " 'record-15.txt',\n",
       " '885374468.txt',\n",
       " '122934640_WGH.txt',\n",
       " '463067067.txt',\n",
       " '354045075.txt',\n",
       " '405868244_YC.txt',\n",
       " '677168937_RWH.txt',\n",
       " '726582792.txt',\n",
       " '894281954.txt',\n",
       " '921814879.txt',\n",
       " 'record-143.txt',\n",
       " '071051340.txt',\n",
       " '721206493.txt',\n",
       " '886778915_WGH.txt',\n",
       " '397500866_SC.txt',\n",
       " 'record-142.txt',\n",
       " '042335965_SC.txt',\n",
       " '779878634.txt',\n",
       " 'record-14.txt',\n",
       " 'record-28.txt',\n",
       " '831471289.txt',\n",
       " '305757070_ELMVH.txt',\n",
       " '333084519.txt',\n",
       " 'record-16.txt',\n",
       " '596437842.txt',\n",
       " '297228405_DH.txt',\n",
       " '737816210.txt',\n",
       " '044687343_ELMVH.txt',\n",
       " '500472963.txt',\n",
       " 'record-140.txt',\n",
       " '330501671.txt',\n",
       " '207459409_EH.txt',\n",
       " '995495721_PUMC.txt',\n",
       " '160501719_YC.txt',\n",
       " '512875472.txt',\n",
       " '269463740.txt',\n",
       " '442434998.txt',\n",
       " '425680098_SC.txt',\n",
       " '827228650_YC.txt',\n",
       " '513272397.txt',\n",
       " 'record-141.txt',\n",
       " '559197012_c.txt',\n",
       " '927764811_DH.txt',\n",
       " '262182942.txt',\n",
       " 'record-17.txt',\n",
       " '095889687_WGH.txt',\n",
       " '128383116_PUMC.txt',\n",
       " '420033129_YC.txt',\n",
       " '424729395_DH.txt',\n",
       " '503738463_WGH.txt',\n",
       " '143748600_SC.txt',\n",
       " '382851192.txt',\n",
       " 'record-70.txt',\n",
       " 'record-58.txt',\n",
       " '506243692_d.txt',\n",
       " '212255293.txt',\n",
       " '915093496_RWH.txt',\n",
       " '950452368.txt',\n",
       " '894133108.txt',\n",
       " '366812021.txt',\n",
       " '046045205_DH.txt',\n",
       " '568076206.txt',\n",
       " '649953363_b.txt',\n",
       " '020916369_ELMVH.txt',\n",
       " '305265793_c.txt',\n",
       " '626884358.txt',\n",
       " '506243692_e.txt',\n",
       " '018636330_DH.txt',\n",
       " 'record-59.txt',\n",
       " 'record-65.txt',\n",
       " '378274921.txt',\n",
       " 'record-71.txt',\n",
       " '991509188.txt',\n",
       " '989519730_WGH.txt',\n",
       " '068705075.txt',\n",
       " '623269525_PUMC.txt',\n",
       " '788268693_DH.txt',\n",
       " '578368205.txt',\n",
       " '779810048.txt',\n",
       " '708739405_DH.txt',\n",
       " '932057504_DH.txt',\n",
       " 'record-67.txt',\n",
       " 'record-73.txt',\n",
       " '665274856_DH.txt',\n",
       " '402389409_WGH.txt',\n",
       " '714007792_SC.txt',\n",
       " '974381789.txt',\n",
       " '726710124_WGH.txt',\n",
       " '625739584.txt',\n",
       " '139519613.txt',\n",
       " '305265793_a.txt',\n",
       " '234794070.txt',\n",
       " '869436718_SC.txt',\n",
       " '533289709_YC.txt',\n",
       " '649953363_a.txt',\n",
       " '150850238.txt',\n",
       " 'record-124.txt',\n",
       " '237073320.txt',\n",
       " '723989226.txt',\n",
       " '639561722_EH.txt',\n",
       " '837898389.txt',\n",
       " '574700124_RWH.txt',\n",
       " 'record-66.txt',\n",
       " '951502409_RWH.txt',\n",
       " '428878172_ELMVH.txt',\n",
       " '411696276_DH.txt',\n",
       " '667269143.txt',\n",
       " '026350193_RWH.txt',\n",
       " '348301810.txt',\n",
       " '011080908_SC.txt',\n",
       " '819380356_ELMVH.txt',\n",
       " '712485163.txt',\n",
       " '449637451.txt',\n",
       " '337483886.txt',\n",
       " 'record-108.txt',\n",
       " '305265793_d.txt',\n",
       " '807558580_EH.txt',\n",
       " '803896937.txt',\n",
       " '649953363_d.txt',\n",
       " '491550031_PUMC.txt',\n",
       " '305265793_e.txt',\n",
       " 'record-109.txt',\n",
       " '244815666.txt',\n",
       " '176318078_a.txt',\n",
       " '214735961_DH.txt',\n",
       " 'record-121.txt',\n",
       " '996181380.txt',\n",
       " '506243692_c.txt',\n",
       " '601874915.txt',\n",
       " '611537231_SC.txt',\n",
       " '522641603_WGH.txt',\n",
       " '048526074.txt',\n",
       " '538617688.txt',\n",
       " 'record-49.txt',\n",
       " '757085252.txt',\n",
       " '979440029_RWH.txt',\n",
       " '263283549_ELMVH.txt',\n",
       " '506243692_a.txt',\n",
       " '332803550.txt',\n",
       " '458711317.txt',\n",
       " '334094996_YC.txt',\n",
       " 'record-123.txt',\n",
       " '829426955_DH.txt',\n",
       " '751068899_PUMC.txt',\n",
       " '229701189.txt',\n",
       " '305265793_f.txt',\n",
       " 'record-122.txt',\n",
       " '397829674.txt',\n",
       " '202846858.txt',\n",
       " '197872734_YC.txt',\n",
       " 'record-74.txt',\n",
       " '830001606_ELMVH.txt',\n",
       " 'record-48.txt',\n",
       " '110477301.txt',\n",
       " '901162406.txt']"
      ]
     },
     "execution_count": 5,
     "metadata": {},
     "output_type": "execute_result"
    }
   ],
   "source": [
    "trainfile_lst"
   ]
  },
  {
   "cell_type": "code",
   "execution_count": 26,
   "metadata": {},
   "outputs": [
    {
     "data": {
      "text/plain": [
       "(437, 256)"
      ]
     },
     "execution_count": 26,
     "metadata": {},
     "output_type": "execute_result"
    }
   ],
   "source": [
    "len(trainfile_lst),len(testfile_lst)"
   ]
  },
  {
   "cell_type": "code",
   "execution_count": 27,
   "metadata": {},
   "outputs": [
    {
     "name": "stderr",
     "output_type": "stream",
     "text": [
      "/Users/jill/anaconda3/envs/ml/lib/python3.7/site-packages/ipykernel_launcher.py:4: SettingWithCopyWarning: \n",
      "A value is trying to be set on a copy of a slice from a DataFrame\n",
      "\n",
      "See the caveats in the documentation: http://pandas.pydata.org/pandas-docs/stable/user_guide/indexing.html#returning-a-view-versus-a-copy\n",
      "  after removing the cwd from sys.path.\n"
     ]
    }
   ],
   "source": [
    "test_lst = [filename.split('.')[0] for filename in testfile_lst]\n",
    "test_lst.sort()\n",
    "df_test_tag = pd.read_csv(tag_path+'/annotated_for_test.txt',sep=',',index_col=False)\n",
    "df_test_tag['ID'][0] = '0001'"
   ]
  },
  {
   "cell_type": "code",
   "execution_count": 28,
   "metadata": {},
   "outputs": [
    {
     "data": {
      "text/html": [
       "<div>\n",
       "<style scoped>\n",
       "    .dataframe tbody tr th:only-of-type {\n",
       "        vertical-align: middle;\n",
       "    }\n",
       "\n",
       "    .dataframe tbody tr th {\n",
       "        vertical-align: top;\n",
       "    }\n",
       "\n",
       "    .dataframe thead th {\n",
       "        text-align: right;\n",
       "    }\n",
       "</style>\n",
       "<table border=\"1\" class=\"dataframe\">\n",
       "  <thead>\n",
       "    <tr style=\"text-align: right;\">\n",
       "      <th></th>\n",
       "      <th>ID</th>\n",
       "      <th>HF</th>\n",
       "      <th>CAD</th>\n",
       "      <th>Description</th>\n",
       "    </tr>\n",
       "  </thead>\n",
       "  <tbody>\n",
       "    <tr>\n",
       "      <td>0</td>\n",
       "      <td>0001</td>\n",
       "      <td>1</td>\n",
       "      <td>1</td>\n",
       "      <td>CAD(2)/CHF(3)</td>\n",
       "    </tr>\n",
       "    <tr>\n",
       "      <td>1</td>\n",
       "      <td>0002</td>\n",
       "      <td>0</td>\n",
       "      <td>0</td>\n",
       "      <td>NaN</td>\n",
       "    </tr>\n",
       "    <tr>\n",
       "      <td>2</td>\n",
       "      <td>0005</td>\n",
       "      <td>0</td>\n",
       "      <td>0</td>\n",
       "      <td>NaN</td>\n",
       "    </tr>\n",
       "    <tr>\n",
       "      <td>3</td>\n",
       "      <td>0006</td>\n",
       "      <td>0</td>\n",
       "      <td>1</td>\n",
       "      <td>cardiaccath(1)/CAD(2)</td>\n",
       "    </tr>\n",
       "    <tr>\n",
       "      <td>4</td>\n",
       "      <td>0009</td>\n",
       "      <td>0</td>\n",
       "      <td>0</td>\n",
       "      <td>AF(1)</td>\n",
       "    </tr>\n",
       "  </tbody>\n",
       "</table>\n",
       "</div>"
      ],
      "text/plain": [
       "     ID  HF  CAD             Description\n",
       "0  0001   1    1           CAD(2)/CHF(3)\n",
       "1  0002   0    0                     NaN\n",
       "2  0005   0    0                     NaN\n",
       "3  0006   0    1   cardiaccath(1)/CAD(2)\n",
       "4  0009   0    0                   AF(1)"
      ]
     },
     "execution_count": 28,
     "metadata": {},
     "output_type": "execute_result"
    }
   ],
   "source": [
    "df_test_tag.head()"
   ]
  },
  {
   "cell_type": "code",
   "execution_count": 29,
   "metadata": {},
   "outputs": [
    {
     "data": {
      "text/plain": [
       "True"
      ]
     },
     "execution_count": 29,
     "metadata": {},
     "output_type": "execute_result"
    }
   ],
   "source": [
    "# Check filenames list and data frame ID names are consistent.\n",
    "df_test_tag.ID.tolist() == test_lst"
   ]
  },
  {
   "cell_type": "code",
   "execution_count": 30,
   "metadata": {},
   "outputs": [],
   "source": [
    "# Concat all data sets annotated for training.\n",
    "df_beth = pd.read_csv(tag_path+'/annotated_for_beth.txt', sep = ',', index_col=False)\n",
    "df_partner = pd.read_csv(tag_path+'/annotated_for_partners.txt', sep = ',', index_col=False)\n",
    "df_partner2 = pd.read_csv(tag_path+'/annotated_for_partners2.txt', sep=',', index_col=False)\n",
    "df_train_tag = pd.concat([df_beth,df_partner,df_partner2], ignore_index=True)\n",
    "\n",
    "# Adjust ID names. eg: '044687343 ELMVH' to '044687343_ELMVH'.\n",
    "id_lst = df_train_tag.ID.tolist()\n",
    "id_lst2 = [x.replace(\" \", \"_\") for x in id_lst]\n",
    "df_train_tag['ID'] = id_lst2\n",
    "\n",
    "# Adjust train file names. eg: 'record-121' to 'record_121'\n",
    "train_filename_lst = [lst.split('.')[0] for lst in trainfile_lst]\n",
    "train_filename_lst = [element.replace(\"-\", \"_\") for element in train_filename_lst]"
   ]
  },
  {
   "cell_type": "code",
   "execution_count": 31,
   "metadata": {},
   "outputs": [
    {
     "data": {
      "text/html": [
       "<div>\n",
       "<style scoped>\n",
       "    .dataframe tbody tr th:only-of-type {\n",
       "        vertical-align: middle;\n",
       "    }\n",
       "\n",
       "    .dataframe tbody tr th {\n",
       "        vertical-align: top;\n",
       "    }\n",
       "\n",
       "    .dataframe thead th {\n",
       "        text-align: right;\n",
       "    }\n",
       "</style>\n",
       "<table border=\"1\" class=\"dataframe\">\n",
       "  <thead>\n",
       "    <tr style=\"text-align: right;\">\n",
       "      <th></th>\n",
       "      <th>ID</th>\n",
       "      <th>HF</th>\n",
       "      <th>CAD</th>\n",
       "      <th>Description</th>\n",
       "    </tr>\n",
       "  </thead>\n",
       "  <tbody>\n",
       "    <tr>\n",
       "      <td>0</td>\n",
       "      <td>record_13</td>\n",
       "      <td>0</td>\n",
       "      <td>1</td>\n",
       "      <td>CAD(1)</td>\n",
       "    </tr>\n",
       "    <tr>\n",
       "      <td>1</td>\n",
       "      <td>record_14</td>\n",
       "      <td>0</td>\n",
       "      <td>0</td>\n",
       "      <td>NaN</td>\n",
       "    </tr>\n",
       "    <tr>\n",
       "      <td>2</td>\n",
       "      <td>record_15</td>\n",
       "      <td>1</td>\n",
       "      <td>1</td>\n",
       "      <td>CAD(1) / HF(2)</td>\n",
       "    </tr>\n",
       "    <tr>\n",
       "      <td>3</td>\n",
       "      <td>record_16</td>\n",
       "      <td>0</td>\n",
       "      <td>1</td>\n",
       "      <td>CAD(1)</td>\n",
       "    </tr>\n",
       "    <tr>\n",
       "      <td>4</td>\n",
       "      <td>record_17</td>\n",
       "      <td>0</td>\n",
       "      <td>0</td>\n",
       "      <td>Rule out myocardial infarction</td>\n",
       "    </tr>\n",
       "  </tbody>\n",
       "</table>\n",
       "</div>"
      ],
      "text/plain": [
       "          ID  HF  CAD                       Description\n",
       "0  record_13   0    1                            CAD(1)\n",
       "1  record_14   0    0                               NaN\n",
       "2  record_15   1    1                    CAD(1) / HF(2)\n",
       "3  record_16   0    1                            CAD(1)\n",
       "4  record_17   0    0   Rule out myocardial infarction "
      ]
     },
     "execution_count": 31,
     "metadata": {},
     "output_type": "execute_result"
    }
   ],
   "source": [
    "df_train_tag.head()"
   ]
  },
  {
   "cell_type": "code",
   "execution_count": 32,
   "metadata": {},
   "outputs": [
    {
     "data": {
      "text/plain": [
       "True"
      ]
     },
     "execution_count": 32,
     "metadata": {},
     "output_type": "execute_result"
    }
   ],
   "source": [
    "# train filenames list and data frame ID names are consistent.\n",
    "train_filename_lst.sort() == df_train_tag.ID.tolist().sort()"
   ]
  },
  {
   "cell_type": "code",
   "execution_count": 33,
   "metadata": {},
   "outputs": [
    {
     "data": {
      "text/plain": [
       "0    333\n",
       "1    104\n",
       "Name: CAD, dtype: int64"
      ]
     },
     "execution_count": 33,
     "metadata": {},
     "output_type": "execute_result"
    }
   ],
   "source": [
    "df_train_tag.CAD.value_counts()"
   ]
  },
  {
   "cell_type": "code",
   "execution_count": 34,
   "metadata": {},
   "outputs": [
    {
     "data": {
      "text/plain": [
       "0    192\n",
       "1     64\n",
       "Name: CAD, dtype: int64"
      ]
     },
     "execution_count": 34,
     "metadata": {},
     "output_type": "execute_result"
    }
   ],
   "source": [
    "df_test_tag.CAD.value_counts()"
   ]
  },
  {
   "cell_type": "markdown",
   "metadata": {},
   "source": [
    "# 3. Create a columns \"text\" concated file content with ID"
   ]
  },
  {
   "cell_type": "code",
   "execution_count": 35,
   "metadata": {},
   "outputs": [],
   "source": [
    "def concat_df(df,filenamelist,col_list,path):\n",
    "    \"\"\"\n",
    "    Concat text and CAD columns with same ID\n",
    "    Return the merged dataframe.\n",
    "    \"\"\"\n",
    "    df1 = pd.DataFrame(df)[col_list]\n",
    "    id_lst = []\n",
    "    text_lst = []\n",
    "    \n",
    "    def read_text(text):\n",
    "        with open(text, \"r\") as file:\n",
    "            raw = file.readlines()\n",
    "        return raw\n",
    "\n",
    "    for file in filenamelist:\n",
    "        id_lst.append(file.split('.')[0])\n",
    "        text = read_text(path+file)\n",
    "        text_lst.append(text)\n",
    "        \n",
    "    id_lst = [file.replace(\"-\",\"_\") for file in id_lst]\n",
    "    lst_of_tuples = list(zip(id_lst, text_lst))\n",
    "    df2 = pd.DataFrame(lst_of_tuples, columns = ['ID','text'])    \n",
    "    merge_df = pd.merge(left = df1,right=df2, left_on='ID', right_on='ID')\n",
    "    return merge_df    "
   ]
  },
  {
   "cell_type": "code",
   "execution_count": 36,
   "metadata": {},
   "outputs": [],
   "source": [
    "colLst = ['ID','CAD']\n",
    "merge_train = concat_df(df_train_tag, trainfile_lst, colLst, train_path)\n",
    "merge_test = concat_df(df_test_tag, testfile_lst, colLst, test_path)"
   ]
  },
  {
   "cell_type": "code",
   "execution_count": 37,
   "metadata": {},
   "outputs": [
    {
     "data": {
      "text/html": [
       "<div>\n",
       "<style scoped>\n",
       "    .dataframe tbody tr th:only-of-type {\n",
       "        vertical-align: middle;\n",
       "    }\n",
       "\n",
       "    .dataframe tbody tr th {\n",
       "        vertical-align: top;\n",
       "    }\n",
       "\n",
       "    .dataframe thead th {\n",
       "        text-align: right;\n",
       "    }\n",
       "</style>\n",
       "<table border=\"1\" class=\"dataframe\">\n",
       "  <thead>\n",
       "    <tr style=\"text-align: right;\">\n",
       "      <th></th>\n",
       "      <th>ID</th>\n",
       "      <th>CAD</th>\n",
       "      <th>text</th>\n",
       "    </tr>\n",
       "  </thead>\n",
       "  <tbody>\n",
       "    <tr>\n",
       "      <td>0</td>\n",
       "      <td>record_13</td>\n",
       "      <td>1</td>\n",
       "      <td>[Admission Date :\\n, 2018-10-25\\n, Discharge D...</td>\n",
       "    </tr>\n",
       "    <tr>\n",
       "      <td>1</td>\n",
       "      <td>record_14</td>\n",
       "      <td>0</td>\n",
       "      <td>[Admission Date :\\n, 2011-03-10\\n, Discharge D...</td>\n",
       "    </tr>\n",
       "    <tr>\n",
       "      <td>2</td>\n",
       "      <td>record_15</td>\n",
       "      <td>1</td>\n",
       "      <td>[Admission Date :\\n, Discharge Date :\\n, 2014-...</td>\n",
       "    </tr>\n",
       "    <tr>\n",
       "      <td>3</td>\n",
       "      <td>record_16</td>\n",
       "      <td>1</td>\n",
       "      <td>[Admission Date :\\n, 2015-10-28\\n, Discharge D...</td>\n",
       "    </tr>\n",
       "    <tr>\n",
       "      <td>4</td>\n",
       "      <td>record_17</td>\n",
       "      <td>0</td>\n",
       "      <td>[Admission Date:\\n, 2011-02-08\\n, Discharge Da...</td>\n",
       "    </tr>\n",
       "  </tbody>\n",
       "</table>\n",
       "</div>"
      ],
      "text/plain": [
       "          ID  CAD                                               text\n",
       "0  record_13    1  [Admission Date :\\n, 2018-10-25\\n, Discharge D...\n",
       "1  record_14    0  [Admission Date :\\n, 2011-03-10\\n, Discharge D...\n",
       "2  record_15    1  [Admission Date :\\n, Discharge Date :\\n, 2014-...\n",
       "3  record_16    1  [Admission Date :\\n, 2015-10-28\\n, Discharge D...\n",
       "4  record_17    0  [Admission Date:\\n, 2011-02-08\\n, Discharge Da..."
      ]
     },
     "execution_count": 37,
     "metadata": {},
     "output_type": "execute_result"
    }
   ],
   "source": [
    "merge_train.head()"
   ]
  },
  {
   "cell_type": "code",
   "execution_count": 38,
   "metadata": {},
   "outputs": [
    {
     "data": {
      "text/plain": [
       "(437, 3)"
      ]
     },
     "execution_count": 38,
     "metadata": {},
     "output_type": "execute_result"
    }
   ],
   "source": [
    "merge_train.shape"
   ]
  },
  {
   "cell_type": "code",
   "execution_count": 39,
   "metadata": {},
   "outputs": [
    {
     "data": {
      "text/plain": [
       "0    333\n",
       "1    104\n",
       "Name: CAD, dtype: int64"
      ]
     },
     "execution_count": 39,
     "metadata": {},
     "output_type": "execute_result"
    }
   ],
   "source": [
    "merge_train.CAD.value_counts()"
   ]
  },
  {
   "cell_type": "code",
   "execution_count": 40,
   "metadata": {},
   "outputs": [
    {
     "data": {
      "text/html": [
       "<div>\n",
       "<style scoped>\n",
       "    .dataframe tbody tr th:only-of-type {\n",
       "        vertical-align: middle;\n",
       "    }\n",
       "\n",
       "    .dataframe tbody tr th {\n",
       "        vertical-align: top;\n",
       "    }\n",
       "\n",
       "    .dataframe thead th {\n",
       "        text-align: right;\n",
       "    }\n",
       "</style>\n",
       "<table border=\"1\" class=\"dataframe\">\n",
       "  <thead>\n",
       "    <tr style=\"text-align: right;\">\n",
       "      <th></th>\n",
       "      <th>ID</th>\n",
       "      <th>CAD</th>\n",
       "      <th>text</th>\n",
       "    </tr>\n",
       "  </thead>\n",
       "  <tbody>\n",
       "    <tr>\n",
       "      <td>0</td>\n",
       "      <td>0001</td>\n",
       "      <td>1</td>\n",
       "      <td>[﻿Admission Date :\\n, 2012-10-31\\n, Discharge ...</td>\n",
       "    </tr>\n",
       "    <tr>\n",
       "      <td>1</td>\n",
       "      <td>0002</td>\n",
       "      <td>0</td>\n",
       "      <td>[004668411\\n, CTMC\\n, 68299235\\n, 763052\\n, 9/...</td>\n",
       "    </tr>\n",
       "    <tr>\n",
       "      <td>2</td>\n",
       "      <td>0005</td>\n",
       "      <td>0</td>\n",
       "      <td>[﻿Admission Date :\\n, 2016-12-24\\n, Discharge ...</td>\n",
       "    </tr>\n",
       "    <tr>\n",
       "      <td>3</td>\n",
       "      <td>0006</td>\n",
       "      <td>1</td>\n",
       "      <td>[006544894 \\n, NVH \\n, 65104826 \\n, 1/2/2004 1...</td>\n",
       "    </tr>\n",
       "    <tr>\n",
       "      <td>4</td>\n",
       "      <td>0009</td>\n",
       "      <td>0</td>\n",
       "      <td>[﻿Admission Date :\\n, 2015-10-10\\n, Discharge ...</td>\n",
       "    </tr>\n",
       "  </tbody>\n",
       "</table>\n",
       "</div>"
      ],
      "text/plain": [
       "     ID  CAD                                               text\n",
       "0  0001    1  [﻿Admission Date :\\n, 2012-10-31\\n, Discharge ...\n",
       "1  0002    0  [004668411\\n, CTMC\\n, 68299235\\n, 763052\\n, 9/...\n",
       "2  0005    0  [﻿Admission Date :\\n, 2016-12-24\\n, Discharge ...\n",
       "3  0006    1  [006544894 \\n, NVH \\n, 65104826 \\n, 1/2/2004 1...\n",
       "4  0009    0  [﻿Admission Date :\\n, 2015-10-10\\n, Discharge ..."
      ]
     },
     "execution_count": 40,
     "metadata": {},
     "output_type": "execute_result"
    }
   ],
   "source": [
    "merge_test.head()"
   ]
  },
  {
   "cell_type": "code",
   "execution_count": 41,
   "metadata": {},
   "outputs": [
    {
     "data": {
      "text/plain": [
       "(256, 3)"
      ]
     },
     "execution_count": 41,
     "metadata": {},
     "output_type": "execute_result"
    }
   ],
   "source": [
    "merge_test.shape"
   ]
  },
  {
   "cell_type": "code",
   "execution_count": 42,
   "metadata": {},
   "outputs": [
    {
     "data": {
      "text/plain": [
       "0    192\n",
       "1     64\n",
       "Name: CAD, dtype: int64"
      ]
     },
     "execution_count": 42,
     "metadata": {},
     "output_type": "execute_result"
    }
   ],
   "source": [
    "merge_test.CAD.value_counts()"
   ]
  },
  {
   "cell_type": "markdown",
   "metadata": {},
   "source": [
    "# 4. Processing sentences, preparing datasets."
   ]
  },
  {
   "cell_type": "code",
   "execution_count": 43,
   "metadata": {},
   "outputs": [],
   "source": [
    "def cleanText(sentence):\n",
    "    \"\"\"\n",
    "    Remove special characters and numbers.\n",
    "    change all letters into lowercase.\n",
    "    \n",
    "    \"\"\" \n",
    "    return re.sub('[^a-zA-Z]+',' ', sentence).lower()"
   ]
  },
  {
   "cell_type": "code",
   "execution_count": 44,
   "metadata": {},
   "outputs": [],
   "source": [
    "def normalize_word(sentence):\n",
    "    \"\"\"\n",
    "    Remove stop words, stem and lemmatize words.\n",
    "    Return a new words list.\n",
    "    \"\"\"\n",
    "    stop_words = set(stopwords.words('english'))\n",
    "    ps = PorterStemmer()\n",
    "    word_tokens = word_tokenize(sentence)\n",
    "    \n",
    "    # Remove stop words\n",
    "    filtered_words = [w for w in word_tokens if w not in stop_words]\n",
    "    \n",
    "    # Stem\n",
    "    stem_words = [ps.stem(w) for w in filtered_words]\n",
    "    \n",
    "    # Lemmatize\n",
    "    lemma_words = [WordNetLemmatizer().lemmatize(w) for w in stem_words]\n",
    "    \n",
    "    # Create a list having the words whose length are larger than 1.\n",
    "    words = [word for word in lemma_words if len(word)>1]\n",
    "    return words"
   ]
  },
  {
   "cell_type": "code",
   "execution_count": 45,
   "metadata": {},
   "outputs": [],
   "source": [
    "def token_words(lst):\n",
    "    \"\"\"\n",
    "    Return a list of word tokens from text.\n",
    "    \"\"\"\n",
    "    new_lst = []\n",
    "    for sentence in lst:\n",
    "        # Remove words of categories\n",
    "        if \":\" not in sentence:\n",
    "            clean_sen = cleanText(sentence)\n",
    "            if clean_sen != ' ':\n",
    "                new_sen = normalize_word(clean_sen) \n",
    "                if new_sen:\n",
    "                    new_lst+=new_sen\n",
    "    return new_lst"
   ]
  },
  {
   "cell_type": "code",
   "execution_count": 46,
   "metadata": {},
   "outputs": [],
   "source": [
    "def prepared_data(df, df_dir, filename):\n",
    "    \"\"\"\n",
    "    Create columns \"word_tokens\",\"clean_text\".\n",
    "    Shuffle the indexes.\n",
    "    Write a csv file used for model to the target path.\n",
    "    \"\"\"\n",
    "    df['word_tokens'] = df.apply(lambda x: token_words(x['text']),axis=1)\n",
    "    df['clean_text'] = df.apply(lambda x: \" \".join(x['word_tokens']),axis=1)\n",
    "    df_new = shuffle(df, random_state=42)\n",
    "    df_new.reset_index(drop=True)\n",
    "    df_new.to_csv(os.path.join(df_dir,filename), encoding='utf-8', index = None,header='true')\n",
    "    "
   ]
  },
  {
   "cell_type": "code",
   "execution_count": 49,
   "metadata": {},
   "outputs": [
    {
     "name": "stdout",
     "output_type": "stream",
     "text": [
      "CPU times: user 17.1 s, sys: 1.65 s, total: 18.7 s\n",
      "Wall time: 18.8 s\n"
     ]
    }
   ],
   "source": [
    "%%time\n",
    "prepared_data(merge_train, out_data_trainPath, \"train.csv\")\n",
    "prepared_data(merge_test, out_data_testPath, \"test.csv\")"
   ]
  },
  {
   "cell_type": "markdown",
   "metadata": {},
   "source": [
    "# 5. EDA\n",
    "references: https://github.com/Jill3240/NLP-with-Python/blob/master/sentiment_analysis.ipynb"
   ]
  },
  {
   "cell_type": "code",
   "execution_count": 50,
   "metadata": {},
   "outputs": [],
   "source": [
    "Training = pd.read_csv(os.path.join(out_data_trainPath,\"train.csv\"), index_col=False)\n",
    "Test = pd.read_csv(os.path.join(out_data_testPath,\"test.csv\"), index_col=False)"
   ]
  },
  {
   "cell_type": "markdown",
   "metadata": {},
   "source": [
    "#### *EDA of Traing dataset*"
   ]
  },
  {
   "cell_type": "code",
   "execution_count": 51,
   "metadata": {},
   "outputs": [
    {
     "data": {
      "text/plain": [
       "(437, 5)"
      ]
     },
     "execution_count": 51,
     "metadata": {},
     "output_type": "execute_result"
    }
   ],
   "source": [
    "Training.shape"
   ]
  },
  {
   "cell_type": "code",
   "execution_count": 52,
   "metadata": {},
   "outputs": [
    {
     "data": {
      "text/html": [
       "<div>\n",
       "<style scoped>\n",
       "    .dataframe tbody tr th:only-of-type {\n",
       "        vertical-align: middle;\n",
       "    }\n",
       "\n",
       "    .dataframe tbody tr th {\n",
       "        vertical-align: top;\n",
       "    }\n",
       "\n",
       "    .dataframe thead th {\n",
       "        text-align: right;\n",
       "    }\n",
       "</style>\n",
       "<table border=\"1\" class=\"dataframe\">\n",
       "  <thead>\n",
       "    <tr style=\"text-align: right;\">\n",
       "      <th></th>\n",
       "      <th>ID</th>\n",
       "      <th>CAD</th>\n",
       "      <th>text</th>\n",
       "      <th>word_tokens</th>\n",
       "      <th>clean_text</th>\n",
       "    </tr>\n",
       "  </thead>\n",
       "  <tbody>\n",
       "    <tr>\n",
       "      <td>0</td>\n",
       "      <td>857888116</td>\n",
       "      <td>1</td>\n",
       "      <td>['857888116\\n', 'CTMC\\n', '36320247\\n', '66801...</td>\n",
       "      <td>['ctmc', 'leukemia', 'pnuemoia', 'bone', 'marr...</td>\n",
       "      <td>ctmc leukemia pnuemoia bone marrow transplant ...</td>\n",
       "    </tr>\n",
       "    <tr>\n",
       "      <td>1</td>\n",
       "      <td>095889687_WGH</td>\n",
       "      <td>0</td>\n",
       "      <td>['095889687 WGH\\n', '9786774\\n', '224527\\n', '...</td>\n",
       "      <td>['wgh', 'ed', 'discharg', 'summari', 'unsign',...</td>\n",
       "      <td>wgh ed discharg summari unsign di unsign ed di...</td>\n",
       "    </tr>\n",
       "    <tr>\n",
       "      <td>2</td>\n",
       "      <td>428878172_ELMVH</td>\n",
       "      <td>0</td>\n",
       "      <td>['428878172 ELMVH\\n', '77066399\\n', '833854\\n'...</td>\n",
       "      <td>['elmvh', 'vagin', 'birth', 'di', 'discharg', ...</td>\n",
       "      <td>elmvh vagin birth di discharg order liepkol zo...</td>\n",
       "    </tr>\n",
       "    <tr>\n",
       "      <td>3</td>\n",
       "      <td>511454195</td>\n",
       "      <td>0</td>\n",
       "      <td>['511454195\\n', 'HLGMC\\n', '0150441\\n', '60106...</td>\n",
       "      <td>['hlgmc', 'discharg', 'summari', 'sign', 'di',...</td>\n",
       "      <td>hlgmc discharg summari sign di sign fongfyfeno...</td>\n",
       "    </tr>\n",
       "    <tr>\n",
       "      <td>4</td>\n",
       "      <td>601874915</td>\n",
       "      <td>1</td>\n",
       "      <td>['601874915\\n', 'TGCHO\\n', '7350631\\n', '48597...</td>\n",
       "      <td>['tgcho', 'discharg', 'summari', 'unsign', 'di...</td>\n",
       "      <td>tgcho discharg summari unsign di unsign right ...</td>\n",
       "    </tr>\n",
       "  </tbody>\n",
       "</table>\n",
       "</div>"
      ],
      "text/plain": [
       "                ID  CAD                                               text  \\\n",
       "0        857888116    1  ['857888116\\n', 'CTMC\\n', '36320247\\n', '66801...   \n",
       "1    095889687_WGH    0  ['095889687 WGH\\n', '9786774\\n', '224527\\n', '...   \n",
       "2  428878172_ELMVH    0  ['428878172 ELMVH\\n', '77066399\\n', '833854\\n'...   \n",
       "3        511454195    0  ['511454195\\n', 'HLGMC\\n', '0150441\\n', '60106...   \n",
       "4        601874915    1  ['601874915\\n', 'TGCHO\\n', '7350631\\n', '48597...   \n",
       "\n",
       "                                         word_tokens  \\\n",
       "0  ['ctmc', 'leukemia', 'pnuemoia', 'bone', 'marr...   \n",
       "1  ['wgh', 'ed', 'discharg', 'summari', 'unsign',...   \n",
       "2  ['elmvh', 'vagin', 'birth', 'di', 'discharg', ...   \n",
       "3  ['hlgmc', 'discharg', 'summari', 'sign', 'di',...   \n",
       "4  ['tgcho', 'discharg', 'summari', 'unsign', 'di...   \n",
       "\n",
       "                                          clean_text  \n",
       "0  ctmc leukemia pnuemoia bone marrow transplant ...  \n",
       "1  wgh ed discharg summari unsign di unsign ed di...  \n",
       "2  elmvh vagin birth di discharg order liepkol zo...  \n",
       "3  hlgmc discharg summari sign di sign fongfyfeno...  \n",
       "4  tgcho discharg summari unsign di unsign right ...  "
      ]
     },
     "execution_count": 52,
     "metadata": {},
     "output_type": "execute_result"
    }
   ],
   "source": [
    "Training.head()"
   ]
  },
  {
   "cell_type": "code",
   "execution_count": 53,
   "metadata": {},
   "outputs": [
    {
     "data": {
      "text/plain": [
       "0    333\n",
       "1    104\n",
       "Name: CAD, dtype: int64"
      ]
     },
     "execution_count": 53,
     "metadata": {},
     "output_type": "execute_result"
    }
   ],
   "source": [
    "Training.CAD.value_counts()"
   ]
  },
  {
   "cell_type": "code",
   "execution_count": 54,
   "metadata": {},
   "outputs": [
    {
     "data": {
      "text/plain": [
       "<matplotlib.axes._subplots.AxesSubplot at 0x1a295804d0>"
      ]
     },
     "execution_count": 54,
     "metadata": {},
     "output_type": "execute_result"
    },
    {
     "data": {
      "image/png": "[encoded data removed]",
      "text/plain": [
       "<Figure size 432x288 with 1 Axes>"
      ]
     },
     "metadata": {
      "needs_background": "light"
     },
     "output_type": "display_data"
    }
   ],
   "source": [
    "Training.groupby(\"CAD\")['ID'].count().plot.bar()"
   ]
  },
  {
   "cell_type": "code",
   "execution_count": 55,
   "metadata": {},
   "outputs": [
    {
     "data": {
      "text/plain": [
       "(False, 0)"
      ]
     },
     "execution_count": 55,
     "metadata": {},
     "output_type": "execute_result"
    }
   ],
   "source": [
    "Training.isnull().values.any(), Training.isnull().values.sum()"
   ]
  },
  {
   "cell_type": "markdown",
   "metadata": {},
   "source": [
    "#### *EDA of Test dataset*"
   ]
  },
  {
   "cell_type": "code",
   "execution_count": 56,
   "metadata": {},
   "outputs": [
    {
     "data": {
      "text/plain": [
       "(256, 5)"
      ]
     },
     "execution_count": 56,
     "metadata": {},
     "output_type": "execute_result"
    }
   ],
   "source": [
    "Test.shape"
   ]
  },
  {
   "cell_type": "code",
   "execution_count": 57,
   "metadata": {},
   "outputs": [
    {
     "data": {
      "text/html": [
       "<div>\n",
       "<style scoped>\n",
       "    .dataframe tbody tr th:only-of-type {\n",
       "        vertical-align: middle;\n",
       "    }\n",
       "\n",
       "    .dataframe tbody tr th {\n",
       "        vertical-align: top;\n",
       "    }\n",
       "\n",
       "    .dataframe thead th {\n",
       "        text-align: right;\n",
       "    }\n",
       "</style>\n",
       "<table border=\"1\" class=\"dataframe\">\n",
       "  <thead>\n",
       "    <tr style=\"text-align: right;\">\n",
       "      <th></th>\n",
       "      <th>ID</th>\n",
       "      <th>CAD</th>\n",
       "      <th>text</th>\n",
       "      <th>word_tokens</th>\n",
       "      <th>clean_text</th>\n",
       "    </tr>\n",
       "  </thead>\n",
       "  <tbody>\n",
       "    <tr>\n",
       "      <td>0</td>\n",
       "      <td>445</td>\n",
       "      <td>0</td>\n",
       "      <td>['Admission Date :\\n', '2015-04-16\\n', 'Discha...</td>\n",
       "      <td>['surgeri', 'patient', 'record', 'known', 'all...</td>\n",
       "      <td>surgeri patient record known allergi drug alte...</td>\n",
       "    </tr>\n",
       "    <tr>\n",
       "      <td>1</td>\n",
       "      <td>13</td>\n",
       "      <td>0</td>\n",
       "      <td>['Admission Date :\\n', '2016-05-05\\n', 'Discha...</td>\n",
       "      <td>['neonatolog', 'patient', 'week', 'gestat', 'f...</td>\n",
       "      <td>neonatolog patient week gestat femal triplet n...</td>\n",
       "    </tr>\n",
       "    <tr>\n",
       "      <td>2</td>\n",
       "      <td>158</td>\n",
       "      <td>0</td>\n",
       "      <td>['207132235 SC\\n', '51203606\\n', '132775\\n', '...</td>\n",
       "      <td>['sc', 'endometri', 'carcinoma', 'sign', 'di',...</td>\n",
       "      <td>sc endometri carcinoma sign di sign endometri ...</td>\n",
       "    </tr>\n",
       "    <tr>\n",
       "      <td>3</td>\n",
       "      <td>412</td>\n",
       "      <td>0</td>\n",
       "      <td>['Admission Date :\\n', '2015-08-10\\n', 'Discha...</td>\n",
       "      <td>['ct', 'cmed', 'csru', 'mr', 'bruno', 'year', ...</td>\n",
       "      <td>ct cmed csru mr bruno year old gentleman initi...</td>\n",
       "    </tr>\n",
       "    <tr>\n",
       "      <td>4</td>\n",
       "      <td>234</td>\n",
       "      <td>1</td>\n",
       "      <td>['325924358\\n', 'FIH\\n', '7061594\\n', '795820\\...</td>\n",
       "      <td>['fih', 'coronari', 'arteri', 'diseas', 'unsig...</td>\n",
       "      <td>fih coronari arteri diseas unsign di unsign tl...</td>\n",
       "    </tr>\n",
       "  </tbody>\n",
       "</table>\n",
       "</div>"
      ],
      "text/plain": [
       "    ID  CAD                                               text  \\\n",
       "0  445    0  ['Admission Date :\\n', '2015-04-16\\n', 'Discha...   \n",
       "1   13    0  ['Admission Date :\\n', '2016-05-05\\n', 'Discha...   \n",
       "2  158    0  ['207132235 SC\\n', '51203606\\n', '132775\\n', '...   \n",
       "3  412    0  ['Admission Date :\\n', '2015-08-10\\n', 'Discha...   \n",
       "4  234    1  ['325924358\\n', 'FIH\\n', '7061594\\n', '795820\\...   \n",
       "\n",
       "                                         word_tokens  \\\n",
       "0  ['surgeri', 'patient', 'record', 'known', 'all...   \n",
       "1  ['neonatolog', 'patient', 'week', 'gestat', 'f...   \n",
       "2  ['sc', 'endometri', 'carcinoma', 'sign', 'di',...   \n",
       "3  ['ct', 'cmed', 'csru', 'mr', 'bruno', 'year', ...   \n",
       "4  ['fih', 'coronari', 'arteri', 'diseas', 'unsig...   \n",
       "\n",
       "                                          clean_text  \n",
       "0  surgeri patient record known allergi drug alte...  \n",
       "1  neonatolog patient week gestat femal triplet n...  \n",
       "2  sc endometri carcinoma sign di sign endometri ...  \n",
       "3  ct cmed csru mr bruno year old gentleman initi...  \n",
       "4  fih coronari arteri diseas unsign di unsign tl...  "
      ]
     },
     "execution_count": 57,
     "metadata": {},
     "output_type": "execute_result"
    }
   ],
   "source": [
    "Test.head()"
   ]
  },
  {
   "cell_type": "code",
   "execution_count": 58,
   "metadata": {},
   "outputs": [
    {
     "data": {
      "text/plain": [
       "0    192\n",
       "1     64\n",
       "Name: CAD, dtype: int64"
      ]
     },
     "execution_count": 58,
     "metadata": {},
     "output_type": "execute_result"
    }
   ],
   "source": [
    "Test.CAD.value_counts()"
   ]
  },
  {
   "cell_type": "code",
   "execution_count": 59,
   "metadata": {},
   "outputs": [
    {
     "data": {
      "text/plain": [
       "<matplotlib.axes._subplots.AxesSubplot at 0x1a22939990>"
      ]
     },
     "execution_count": 59,
     "metadata": {},
     "output_type": "execute_result"
    },
    {
     "data": {
      "image/png": "[encoded data removed]",
      "text/plain": [
       "<Figure size 432x288 with 1 Axes>"
      ]
     },
     "metadata": {
      "needs_background": "light"
     },
     "output_type": "display_data"
    }
   ],
   "source": [
    "Test.groupby('CAD')['ID'].count().plot.bar()"
   ]
  },
  {
   "cell_type": "code",
   "execution_count": 60,
   "metadata": {},
   "outputs": [
    {
     "data": {
      "text/plain": [
       "(False, 0)"
      ]
     },
     "execution_count": 60,
     "metadata": {},
     "output_type": "execute_result"
    }
   ],
   "source": [
    "Test.isnull().values.any(), Test.isnull().values.sum()"
   ]
  },
  {
   "cell_type": "markdown",
   "metadata": {},
   "source": [
    "#### *Visuliazation of words in training dataset*"
   ]
  },
  {
   "cell_type": "code",
   "execution_count": 61,
   "metadata": {},
   "outputs": [],
   "source": [
    "def visulization_data(df):\n",
    "    \"\"\"\n",
    "    Make a wordcloud visualization of the data\n",
    "    \"\"\"\n",
    "    df_pos = df.loc[df['CAD'] == 1]\n",
    "    df_neg = df.loc[df['CAD'] == 0]\n",
    "    combined_text_pos = \" \".join([word for word in df_pos['word_tokens'].tolist()])\n",
    "    combined_text_neg = \" \".join([word for word in df_neg['word_tokens'].tolist()])\n",
    "    \n",
    "    wc = WordCloud(background_color='white', max_words=50,\n",
    "        # update stopwords to include common words like film and movie\n",
    "               stopwords = STOPWORDS)\n",
    "    \n",
    "    print (\"************ CAD_positive words ***********\")\n",
    "    plt.imshow(wc.generate(combined_text_pos))\n",
    "    plt.axis('off')\n",
    "    plt.show()\n",
    "    \n",
    "    print (\"************ CAD_negtive words ************\")\n",
    "    plt.imshow(wc.generate(combined_text_neg))\n",
    "    plt.axis('off')\n",
    "    plt.show()"
   ]
  },
  {
   "cell_type": "code",
   "execution_count": 62,
   "metadata": {},
   "outputs": [
    {
     "name": "stdout",
     "output_type": "stream",
     "text": [
      "************ CAD_positive words ***********\n"
     ]
    },
    {
     "data": {
      "image/png": "[encoded data removed]",
      "text/plain": [
       "<Figure size 432x288 with 1 Axes>"
      ]
     },
     "metadata": {
      "needs_background": "light"
     },
     "output_type": "display_data"
    },
    {
     "name": "stdout",
     "output_type": "stream",
     "text": [
      "************ CAD_negtive words ************\n"
     ]
    },
    {
     "data": {
      "image/png": "[encoded data removed]",
      "text/plain": [
       "<Figure size 432x288 with 1 Axes>"
      ]
     },
     "metadata": {
      "needs_background": "light"
     },
     "output_type": "display_data"
    }
   ],
   "source": [
    "visulization_data(Training)"
   ]
  },
  {
   "cell_type": "code",
   "execution_count": null,
   "metadata": {},
   "outputs": [],
   "source": []
  }
 ],
 "metadata": {
  "kernelspec": {
   "display_name": "Python 3",
   "language": "python",
   "name": "python3"
  },
  "language_info": {
   "codemirror_mode": {
    "name": "ipython",
    "version": 3
   },
   "file_extension": ".py",
   "mimetype": "text/x-python",
   "name": "python",
   "nbconvert_exporter": "python",
   "pygments_lexer": "ipython3",
   "version": "3.7.4"
  }
 },
 "nbformat": 4,
 "nbformat_minor": 2
}
