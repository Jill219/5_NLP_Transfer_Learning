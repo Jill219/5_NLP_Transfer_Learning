{
 "cells": [
  {
   "cell_type": "code",
   "execution_count": 1,
   "metadata": {
    "colab": {
     "base_uri": "https://localhost:8080/",
     "height": 207
    },
    "colab_type": "code",
    "id": "R_sVhE73th5y",
    "outputId": "7cc3f2b8-f74c-4105-b4c8-52af04f5284b"
   },
   "outputs": [
    {
     "name": "stdout",
     "output_type": "stream",
     "text": [
      "Updated property [core/project].\n",
      "Copying gs://nlp_bucked/out_data/.DS_Store...\n",
      "Copying gs://nlp_bucked/out_data/test/.DS_Store...\n",
      "Copying gs://nlp_bucked/out_data/test/test.csv...\n",
      "Copying gs://nlp_bucked/out_data/train/.DS_Store...\n",
      "Copying gs://nlp_bucked/out_data/train/train.csv...\n",
      "- [5/5 files][  7.8 MiB/  7.8 MiB] 100% Done                                    \n",
      "Operation completed over 5 objects/7.8 MiB.                                      \n",
      "Omitting prefix \"gs://nlp_bucked/bert-tfhub/\". (Did you mean to do cp -r?)\n",
      "Omitting prefix \"gs://nlp_bucked/out_data/\". (Did you mean to do cp -r?)\n",
      "CommandException: No URLs matched\n"
     ]
    }
   ],
   "source": [
    "from google.colab import auth\n",
    "auth.authenticate_user()\n",
    "project_id = 'neat-library-245005'\n",
    "!gcloud config set project {project_id}\n",
    "bucket_name = 'nlp_bucked'\n",
    "\n",
    "!gsutil -m cp -r gs://nlp_bucked/out_data ~/\n",
    "!gsutil cp gs://nlp_bucked/* ."
   ]
  },
  {
   "cell_type": "code",
   "execution_count": 2,
   "metadata": {
    "colab": {
     "base_uri": "https://localhost:8080/",
     "height": 121
    },
    "colab_type": "code",
    "id": "wvWhnZ69mM60",
    "outputId": "7f9699eb-d593-448e-bfc7-5a60898952d3"
   },
   "outputs": [
    {
     "name": "stdout",
     "output_type": "stream",
     "text": [
      "Copying gs://nlp_bucked/out_data/train/train.csv...\n",
      "- [1 files][  4.6 MiB/  4.6 MiB]                                                \n",
      "Operation completed over 1 objects/4.6 MiB.                                      \n",
      "Copying gs://nlp_bucked/out_data/test/test.csv...\n",
      "- [1 files][  3.3 MiB/  3.3 MiB]                                                \n",
      "Operation completed over 1 objects/3.3 MiB.                                      \n"
     ]
    }
   ],
   "source": [
    "!gsutil cp gs://nlp_bucked/out_data/train/train.csv .\n",
    "!gsutil cp gs://nlp_bucked/out_data/test/test.csv ."
   ]
  },
  {
   "cell_type": "code",
   "execution_count": 3,
   "metadata": {
    "colab": {
     "base_uri": "https://localhost:8080/",
     "height": 35
    },
    "colab_type": "code",
    "id": "WaHITa2Ss_6j",
    "outputId": "e2ad3115-4ee7-41bc-97e8-32030c843fdd"
   },
   "outputs": [
    {
     "name": "stdout",
     "output_type": "stream",
     "text": [
      "test  train\n"
     ]
    }
   ],
   "source": [
    "!ls ~/out_data"
   ]
  },
  {
   "cell_type": "code",
   "execution_count": 0,
   "metadata": {
    "colab": {},
    "colab_type": "code",
    "id": "Rf4qcyUckTnd"
   },
   "outputs": [],
   "source": [
    "import fastai\n",
    "from fastai import *\n",
    "from fastai.text import * \n",
    "from fastai.datasets import URLs\n",
    "import pandas as pd\n",
    "import numpy as np\n",
    "from functools import partial\n",
    "import io\n",
    "import os\n",
    "from sklearn.model_selection import train_test_split\n",
    "from sklearn.utils import resample\n",
    "from sklearn.metrics import classification_report"
   ]
  },
  {
   "cell_type": "code",
   "execution_count": 0,
   "metadata": {
    "colab": {},
    "colab_type": "code",
    "id": "1xURLa0fkhe7"
   },
   "outputs": [],
   "source": [
    "training = pd.read_csv(\"train.csv\",index_col=False)"
   ]
  },
  {
   "cell_type": "code",
   "execution_count": 6,
   "metadata": {
    "colab": {
     "base_uri": "https://localhost:8080/",
     "height": 285
    },
    "colab_type": "code",
    "id": "0bsPfVQckssy",
    "outputId": "50d4f2d4-7139-47de-ecd8-bb285052884d"
   },
   "outputs": [
    {
     "data": {
      "text/html": [
       "<div>\n",
       "<style scoped>\n",
       "    .dataframe tbody tr th:only-of-type {\n",
       "        vertical-align: middle;\n",
       "    }\n",
       "\n",
       "    .dataframe tbody tr th {\n",
       "        vertical-align: top;\n",
       "    }\n",
       "\n",
       "    .dataframe thead th {\n",
       "        text-align: right;\n",
       "    }\n",
       "</style>\n",
       "<table border=\"1\" class=\"dataframe\">\n",
       "  <thead>\n",
       "    <tr style=\"text-align: right;\">\n",
       "      <th></th>\n",
       "      <th>ID</th>\n",
       "      <th>CAD</th>\n",
       "      <th>text</th>\n",
       "      <th>word_tokens</th>\n",
       "      <th>clean_text</th>\n",
       "    </tr>\n",
       "  </thead>\n",
       "  <tbody>\n",
       "    <tr>\n",
       "      <th>0</th>\n",
       "      <td>857888116</td>\n",
       "      <td>1</td>\n",
       "      <td>['857888116\\n', 'CTMC\\n', '36320247\\n', '66801...</td>\n",
       "      <td>['ctmc', 'leukemia', 'pnuemoia', 'bone', 'marr...</td>\n",
       "      <td>ctmc leukemia pnuemoia bone marrow transplant ...</td>\n",
       "    </tr>\n",
       "    <tr>\n",
       "      <th>1</th>\n",
       "      <td>095889687_WGH</td>\n",
       "      <td>0</td>\n",
       "      <td>['095889687 WGH\\n', '9786774\\n', '224527\\n', '...</td>\n",
       "      <td>['wgh', 'ed', 'discharg', 'summari', 'unsign',...</td>\n",
       "      <td>wgh ed discharg summari unsign di unsign ed di...</td>\n",
       "    </tr>\n",
       "    <tr>\n",
       "      <th>2</th>\n",
       "      <td>428878172_ELMVH</td>\n",
       "      <td>0</td>\n",
       "      <td>['428878172 ELMVH\\n', '77066399\\n', '833854\\n'...</td>\n",
       "      <td>['elmvh', 'vagin', 'birth', 'di', 'discharg', ...</td>\n",
       "      <td>elmvh vagin birth di discharg order liepkol zo...</td>\n",
       "    </tr>\n",
       "    <tr>\n",
       "      <th>3</th>\n",
       "      <td>511454195</td>\n",
       "      <td>0</td>\n",
       "      <td>['511454195\\n', 'HLGMC\\n', '0150441\\n', '60106...</td>\n",
       "      <td>['hlgmc', 'discharg', 'summari', 'sign', 'di',...</td>\n",
       "      <td>hlgmc discharg summari sign di sign fongfyfeno...</td>\n",
       "    </tr>\n",
       "    <tr>\n",
       "      <th>4</th>\n",
       "      <td>601874915</td>\n",
       "      <td>1</td>\n",
       "      <td>['601874915\\n', 'TGCHO\\n', '7350631\\n', '48597...</td>\n",
       "      <td>['tgcho', 'discharg', 'summari', 'unsign', 'di...</td>\n",
       "      <td>tgcho discharg summari unsign di unsign right ...</td>\n",
       "    </tr>\n",
       "  </tbody>\n",
       "</table>\n",
       "</div>"
      ],
      "text/plain": [
       "                ID  ...                                         clean_text\n",
       "0        857888116  ...  ctmc leukemia pnuemoia bone marrow transplant ...\n",
       "1    095889687_WGH  ...  wgh ed discharg summari unsign di unsign ed di...\n",
       "2  428878172_ELMVH  ...  elmvh vagin birth di discharg order liepkol zo...\n",
       "3        511454195  ...  hlgmc discharg summari sign di sign fongfyfeno...\n",
       "4        601874915  ...  tgcho discharg summari unsign di unsign right ...\n",
       "\n",
       "[5 rows x 5 columns]"
      ]
     },
     "execution_count": 6,
     "metadata": {
      "tags": []
     },
     "output_type": "execute_result"
    }
   ],
   "source": [
    "training.head()"
   ]
  },
  {
   "cell_type": "code",
   "execution_count": 0,
   "metadata": {
    "colab": {},
    "colab_type": "code",
    "id": "Bx5AAXWGmss8"
   },
   "outputs": [],
   "source": [
    "test = pd.read_csv(\"test.csv\", index_col=False)"
   ]
  },
  {
   "cell_type": "code",
   "execution_count": 8,
   "metadata": {
    "colab": {
     "base_uri": "https://localhost:8080/",
     "height": 198
    },
    "colab_type": "code",
    "id": "9bKQz7IMm7SO",
    "outputId": "d6c5c810-1a17-413f-b3dd-a84edf46fdd1"
   },
   "outputs": [
    {
     "data": {
      "text/html": [
       "<div>\n",
       "<style scoped>\n",
       "    .dataframe tbody tr th:only-of-type {\n",
       "        vertical-align: middle;\n",
       "    }\n",
       "\n",
       "    .dataframe tbody tr th {\n",
       "        vertical-align: top;\n",
       "    }\n",
       "\n",
       "    .dataframe thead th {\n",
       "        text-align: right;\n",
       "    }\n",
       "</style>\n",
       "<table border=\"1\" class=\"dataframe\">\n",
       "  <thead>\n",
       "    <tr style=\"text-align: right;\">\n",
       "      <th></th>\n",
       "      <th>ID</th>\n",
       "      <th>CAD</th>\n",
       "      <th>text</th>\n",
       "      <th>word_tokens</th>\n",
       "      <th>clean_text</th>\n",
       "    </tr>\n",
       "  </thead>\n",
       "  <tbody>\n",
       "    <tr>\n",
       "      <th>0</th>\n",
       "      <td>445</td>\n",
       "      <td>0</td>\n",
       "      <td>['Admission Date :\\n', '2015-04-16\\n', 'Discha...</td>\n",
       "      <td>['surgeri', 'patient', 'record', 'known', 'all...</td>\n",
       "      <td>surgeri patient record known allergi drug alte...</td>\n",
       "    </tr>\n",
       "    <tr>\n",
       "      <th>1</th>\n",
       "      <td>13</td>\n",
       "      <td>0</td>\n",
       "      <td>['Admission Date :\\n', '2016-05-05\\n', 'Discha...</td>\n",
       "      <td>['neonatolog', 'patient', 'week', 'gestat', 'f...</td>\n",
       "      <td>neonatolog patient week gestat femal triplet n...</td>\n",
       "    </tr>\n",
       "    <tr>\n",
       "      <th>2</th>\n",
       "      <td>158</td>\n",
       "      <td>0</td>\n",
       "      <td>['207132235 SC\\n', '51203606\\n', '132775\\n', '...</td>\n",
       "      <td>['sc', 'endometri', 'carcinoma', 'sign', 'di',...</td>\n",
       "      <td>sc endometri carcinoma sign di sign endometri ...</td>\n",
       "    </tr>\n",
       "    <tr>\n",
       "      <th>3</th>\n",
       "      <td>412</td>\n",
       "      <td>0</td>\n",
       "      <td>['Admission Date :\\n', '2015-08-10\\n', 'Discha...</td>\n",
       "      <td>['ct', 'cmed', 'csru', 'mr', 'bruno', 'year', ...</td>\n",
       "      <td>ct cmed csru mr bruno year old gentleman initi...</td>\n",
       "    </tr>\n",
       "    <tr>\n",
       "      <th>4</th>\n",
       "      <td>234</td>\n",
       "      <td>1</td>\n",
       "      <td>['325924358\\n', 'FIH\\n', '7061594\\n', '795820\\...</td>\n",
       "      <td>['fih', 'coronari', 'arteri', 'diseas', 'unsig...</td>\n",
       "      <td>fih coronari arteri diseas unsign di unsign tl...</td>\n",
       "    </tr>\n",
       "  </tbody>\n",
       "</table>\n",
       "</div>"
      ],
      "text/plain": [
       "    ID  ...                                         clean_text\n",
       "0  445  ...  surgeri patient record known allergi drug alte...\n",
       "1   13  ...  neonatolog patient week gestat femal triplet n...\n",
       "2  158  ...  sc endometri carcinoma sign di sign endometri ...\n",
       "3  412  ...  ct cmed csru mr bruno year old gentleman initi...\n",
       "4  234  ...  fih coronari arteri diseas unsign di unsign tl...\n",
       "\n",
       "[5 rows x 5 columns]"
      ]
     },
     "execution_count": 8,
     "metadata": {
      "tags": []
     },
     "output_type": "execute_result"
    }
   ],
   "source": [
    "test.head()"
   ]
  },
  {
   "cell_type": "code",
   "execution_count": 0,
   "metadata": {
    "colab": {},
    "colab_type": "code",
    "id": "Ddg2ljaIykf_"
   },
   "outputs": [],
   "source": [
    "training_df = training.loc[:,('CAD','clean_text')]"
   ]
  },
  {
   "cell_type": "code",
   "execution_count": 10,
   "metadata": {
    "colab": {
     "base_uri": "https://localhost:8080/",
     "height": 198
    },
    "colab_type": "code",
    "id": "jSIOLSbZzGaX",
    "outputId": "1c0fe3a4-fbe2-4b1b-d9fb-3a5542386508"
   },
   "outputs": [
    {
     "data": {
      "text/html": [
       "<div>\n",
       "<style scoped>\n",
       "    .dataframe tbody tr th:only-of-type {\n",
       "        vertical-align: middle;\n",
       "    }\n",
       "\n",
       "    .dataframe tbody tr th {\n",
       "        vertical-align: top;\n",
       "    }\n",
       "\n",
       "    .dataframe thead th {\n",
       "        text-align: right;\n",
       "    }\n",
       "</style>\n",
       "<table border=\"1\" class=\"dataframe\">\n",
       "  <thead>\n",
       "    <tr style=\"text-align: right;\">\n",
       "      <th></th>\n",
       "      <th>CAD</th>\n",
       "      <th>clean_text</th>\n",
       "    </tr>\n",
       "  </thead>\n",
       "  <tbody>\n",
       "    <tr>\n",
       "      <th>0</th>\n",
       "      <td>1</td>\n",
       "      <td>ctmc leukemia pnuemoia bone marrow transplant ...</td>\n",
       "    </tr>\n",
       "    <tr>\n",
       "      <th>1</th>\n",
       "      <td>0</td>\n",
       "      <td>wgh ed discharg summari unsign di unsign ed di...</td>\n",
       "    </tr>\n",
       "    <tr>\n",
       "      <th>2</th>\n",
       "      <td>0</td>\n",
       "      <td>elmvh vagin birth di discharg order liepkol zo...</td>\n",
       "    </tr>\n",
       "    <tr>\n",
       "      <th>3</th>\n",
       "      <td>0</td>\n",
       "      <td>hlgmc discharg summari sign di sign fongfyfeno...</td>\n",
       "    </tr>\n",
       "    <tr>\n",
       "      <th>4</th>\n",
       "      <td>1</td>\n",
       "      <td>tgcho discharg summari unsign di unsign right ...</td>\n",
       "    </tr>\n",
       "  </tbody>\n",
       "</table>\n",
       "</div>"
      ],
      "text/plain": [
       "   CAD                                         clean_text\n",
       "0    1  ctmc leukemia pnuemoia bone marrow transplant ...\n",
       "1    0  wgh ed discharg summari unsign di unsign ed di...\n",
       "2    0  elmvh vagin birth di discharg order liepkol zo...\n",
       "3    0  hlgmc discharg summari sign di sign fongfyfeno...\n",
       "4    1  tgcho discharg summari unsign di unsign right ..."
      ]
     },
     "execution_count": 10,
     "metadata": {
      "tags": []
     },
     "output_type": "execute_result"
    }
   ],
   "source": [
    "training_df.head()"
   ]
  },
  {
   "cell_type": "code",
   "execution_count": 11,
   "metadata": {
    "colab": {
     "base_uri": "https://localhost:8080/",
     "height": 69
    },
    "colab_type": "code",
    "id": "fuNykm6AzJro",
    "outputId": "96d1df31-165c-4e01-9aff-c0582101e12f"
   },
   "outputs": [
    {
     "data": {
      "text/plain": [
       "0    333\n",
       "1    104\n",
       "Name: CAD, dtype: int64"
      ]
     },
     "execution_count": 11,
     "metadata": {
      "tags": []
     },
     "output_type": "execute_result"
    }
   ],
   "source": [
    "training_df.CAD.value_counts()"
   ]
  },
  {
   "cell_type": "code",
   "execution_count": 12,
   "metadata": {
    "colab": {
     "base_uri": "https://localhost:8080/",
     "height": 279
    },
    "colab_type": "code",
    "id": "8KCZ6QubJvew",
    "outputId": "1cecc6ac-6bbd-4ae1-9049-405218d270aa"
   },
   "outputs": [
    {
     "data": {
      "text/plain": [
       "<matplotlib.axes._subplots.AxesSubplot at 0x7f0392a43208>"
      ]
     },
     "execution_count": 12,
     "metadata": {
      "tags": []
     },
     "output_type": "execute_result"
    },
    {
     "data": {
      "image/png": "[encoded data removed]",
      "text/plain": [
       "<Figure size 432x288 with 1 Axes>"
      ]
     },
     "metadata": {
      "tags": []
     },
     "output_type": "display_data"
    }
   ],
   "source": [
    "training_df.CAD.value_counts().plot.bar()"
   ]
  },
  {
   "cell_type": "code",
   "execution_count": 0,
   "metadata": {
    "colab": {},
    "colab_type": "code",
    "id": "3DmVPBnPzOpx"
   },
   "outputs": [],
   "source": [
    "test_df = test.loc[:,('CAD','clean_text')]"
   ]
  },
  {
   "cell_type": "code",
   "execution_count": 14,
   "metadata": {
    "colab": {
     "base_uri": "https://localhost:8080/",
     "height": 69
    },
    "colab_type": "code",
    "id": "_0cUCGUczWZH",
    "outputId": "5c516b0f-4ef2-4649-fe5c-22b8174b6cb7"
   },
   "outputs": [
    {
     "data": {
      "text/plain": [
       "0    192\n",
       "1     64\n",
       "Name: CAD, dtype: int64"
      ]
     },
     "execution_count": 14,
     "metadata": {
      "tags": []
     },
     "output_type": "execute_result"
    }
   ],
   "source": [
    "test_df.CAD.value_counts()"
   ]
  },
  {
   "cell_type": "code",
   "execution_count": 15,
   "metadata": {
    "colab": {
     "base_uri": "https://localhost:8080/",
     "height": 281
    },
    "colab_type": "code",
    "id": "1Jim6684KGxd",
    "outputId": "d8c20095-162a-44ad-a61a-430cae5b7ec3"
   },
   "outputs": [
    {
     "data": {
      "text/plain": [
       "<matplotlib.axes._subplots.AxesSubplot at 0x7f0392522d68>"
      ]
     },
     "execution_count": 15,
     "metadata": {
      "tags": []
     },
     "output_type": "execute_result"
    },
    {
     "data": {
      "image/png": "[encoded data removed]",
      "text/plain": [
       "<Figure size 432x288 with 1 Axes>"
      ]
     },
     "metadata": {
      "tags": []
     },
     "output_type": "display_data"
    }
   ],
   "source": [
    "test_df.CAD.value_counts().plot.bar()"
   ]
  },
  {
   "cell_type": "markdown",
   "metadata": {
    "colab_type": "text",
    "id": "5FMNJUCk3HYK"
   },
   "source": [
    "**1. Data precessing**"
   ]
  },
  {
   "cell_type": "code",
   "execution_count": 0,
   "metadata": {
    "colab": {},
    "colab_type": "code",
    "id": "XYzlPnLyzZxO"
   },
   "outputs": [],
   "source": [
    "data_lm = TextLMDataBunch.from_df(train_df = training_df, valid_df = test_df, path = \"\")"
   ]
  },
  {
   "cell_type": "code",
   "execution_count": 17,
   "metadata": {
    "colab": {
     "base_uri": "https://localhost:8080/",
     "height": 423
    },
    "colab_type": "code",
    "id": "-jPi1m0WzipT",
    "outputId": "d9f1d081-6001-406c-fb0e-f4cc606d8e38"
   },
   "outputs": [
    {
     "data": {
      "text/html": [
       "<table border=\"1\" class=\"dataframe\">\n",
       "  <thead>\n",
       "    <tr style=\"text-align: right;\">\n",
       "      <th>idx</th>\n",
       "      <th>text</th>\n",
       "    </tr>\n",
       "  </thead>\n",
       "  <tbody>\n",
       "    <tr>\n",
       "      <td>0</td>\n",
       "      <td>marrow remain hypercellular persist low level blast novemb bone marrow biopsi show cellular xxunk space xxunk aml cell xxunk start due splenic pain patient admit decemb mani quot peripher blood stem cell transplant quot cours without major complic sinc discharg hospit one week ago twin graft stem cell poli white blood cell differenti also persist blast patient taken gmcsf splenic pain pain improv febril transfus sever occas white blood cell</td>\n",
       "    </tr>\n",
       "    <tr>\n",
       "      <td>1</td>\n",
       "      <td>one trial patient recent also left arm left facial swell underw mri show boni met left clavicl compress left subclavian vein receiv xrt xxunk patient start phase one trial patient notic increas leg swell sinc per oncologist start worsen also increas lft increas creatinin admiss normal hyperkalemia past two day treat kayexal fluid lab get wors underli process occur addit patient hypertens systol oncologist apo yesterday colon cancer per hpi</td>\n",
       "    </tr>\n",
       "    <tr>\n",
       "      <td>2</td>\n",
       "      <td>took place juli admit place dobutamin diures dri weight pound present least pound weight gain spite dose increas diuret also complain abdomin bloat report increas size abdomen deni fever chill sweat nausea vomit diarrhea chest pain mild short breath coronari diseas ischem cardiomyopathi hypertens urinari retent chronic indwel foley gout peripher vascular diseas basal cell carcinoma chronic renal insuffici zaroxolyn mg monday wednesday friday recent increas mg po bid ampicillin</td>\n",
       "    </tr>\n",
       "    <tr>\n",
       "      <td>3</td>\n",
       "      <td>heart failur histori hypertens peripher vascular diseas statu post left femor poplit bypass graft compet wound dehisc line sepsi recent secondari enterococcu klebsiella klebsiella bacteremia thought secondari infect cyst statu post excis right thigh av graft histori parathyroidectomi statu post carotid endarterectomi histori anemia statu post right femor av graft wound breakdown fungal sepsi secondari graft infect histori depress anxieti blood pressur heart rate respir left groin wound dress anicter</td>\n",
       "    </tr>\n",
       "    <tr>\n",
       "      <td>4</td>\n",
       "      <td>patient apo care becom appar mitral regurgit worsen also sourc sepsi found worsen mitral regurgit find sever mitral regurgit cardiac catheter well elev fill pressur everyon apo opinion patient would wait complet long cours antibiot accordingli taken oper room cardiac procedur sustain dissect ascend aorta therefor underw graft replac ascend aorta mitral valv replac valv excis materi appear infect debrid possibl clean area thoroughli also becam appar evid calcif around</td>\n",
       "    </tr>\n",
       "  </tbody>\n",
       "</table>"
      ],
      "text/plain": [
       "<IPython.core.display.HTML object>"
      ]
     },
     "metadata": {
      "tags": []
     },
     "output_type": "display_data"
    }
   ],
   "source": [
    "data_lm.show_batch()"
   ]
  },
  {
   "cell_type": "code",
   "execution_count": 18,
   "metadata": {
    "colab": {
     "base_uri": "https://localhost:8080/",
     "height": 535
    },
    "colab_type": "code",
    "id": "OFMUC2rvzu8b",
    "outputId": "e124f2c8-54fc-4ffe-c42b-4e6388d59804"
   },
   "outputs": [
    {
     "data": {
      "text/plain": [
       "['xxunk',\n",
       " 'xxpad',\n",
       " 'xxbos',\n",
       " 'xxeos',\n",
       " 'xxfld',\n",
       " 'xxmaj',\n",
       " 'xxup',\n",
       " 'xxrep',\n",
       " 'xxwrep',\n",
       " 'patient',\n",
       " 'mg',\n",
       " 'day',\n",
       " 'left',\n",
       " 'discharg',\n",
       " 'right',\n",
       " 'po',\n",
       " 'pain',\n",
       " 'normal',\n",
       " 'blood',\n",
       " 'time',\n",
       " 'hospit',\n",
       " 'show',\n",
       " 'dr',\n",
       " 'histori',\n",
       " 'admiss',\n",
       " 'follow',\n",
       " 'well',\n",
       " 'chest',\n",
       " 'apo',\n",
       " 'medic']"
      ]
     },
     "execution_count": 18,
     "metadata": {
      "tags": []
     },
     "output_type": "execute_result"
    }
   ],
   "source": [
    "# Listing below first 30 unique tokens in order of frequency\n",
    "\n",
    "#xxbos: Begining of a sentence\n",
    "#xxfld: Represent separate parts of a document like title, summary etc., each one will get a separate field and so they will get numbered (e.g. xxfld 1, xxfld 2).\n",
    "#xxup: If there's something in all caps, it gets lower cased and a token called xxup will get added to it. Words that are fully capitalized, such as “I AM SHOUTING”, are tokenized as “xxup i xxup am xxup shouting“\n",
    "#xxunk: token used instead of an uncommon word.\n",
    "#xxmaj: token indicates that there is capitalization of the word. “The” will be tokenized as “xxmaj the“.\n",
    "#xxrep: token indicates repeated word, if you have 29 ! in a row, (i.e. xxrep 29 !\n",
    "\n",
    "data_lm.vocab.itos[:30]"
   ]
  },
  {
   "cell_type": "code",
   "execution_count": 19,
   "metadata": {
    "colab": {
     "base_uri": "https://localhost:8080/",
     "height": 35
    },
    "colab_type": "code",
    "id": "CeKNXvsRz7SQ",
    "outputId": "bf1c346c-dd97-420f-86f8-eefd9348ee9e"
   },
   "outputs": [
    {
     "data": {
      "text/plain": [
       "array([   2,  785, 1323,    0,  444,  801,  477,   46,   56,  334])"
      ]
     },
     "execution_count": 19,
     "metadata": {
      "tags": []
     },
     "output_type": "execute_result"
    }
   ],
   "source": [
    "data_lm.train_ds[0][0].data[:10]"
   ]
  },
  {
   "cell_type": "markdown",
   "metadata": {
    "colab_type": "text",
    "id": "xaM5UXUP3RjX"
   },
   "source": [
    "**2. Create language model**"
   ]
  },
  {
   "cell_type": "markdown",
   "metadata": {
    "colab_type": "text",
    "id": "uzyBdvQR4Yfh"
   },
   "source": [
    "a. use the pre-trained language model weights."
   ]
  },
  {
   "cell_type": "code",
   "execution_count": 0,
   "metadata": {
    "colab": {},
    "colab_type": "code",
    "id": "ZAL40L9d3qMy"
   },
   "outputs": [],
   "source": [
    "learner = language_model_learner(data_lm, AWD_LSTM, drop_mult=0.5)\n",
    "# drop_mult , a hyper-parameter ,used for regularization, sets the amount of dropout. \n",
    "# If the model is over-fitting increase it, if under-fitting, you can decrease the number."
   ]
  },
  {
   "cell_type": "markdown",
   "metadata": {
    "colab_type": "text",
    "id": "S07tBeG45HF9"
   },
   "source": [
    "b. Fine-tuning"
   ]
  },
  {
   "cell_type": "code",
   "execution_count": 26,
   "metadata": {
    "colab": {
     "base_uri": "https://localhost:8080/",
     "height": 35
    },
    "colab_type": "code",
    "id": "qkI_FtJT31b5",
    "outputId": "34af3f78-9c2a-4780-a2ac-fc2b536712b3"
   },
   "outputs": [
    {
     "data": {
      "text/html": [],
      "text/plain": [
       "<IPython.core.display.HTML object>"
      ]
     },
     "metadata": {
      "tags": []
     },
     "output_type": "display_data"
    },
    {
     "name": "stdout",
     "output_type": "stream",
     "text": [
      "LR Finder is complete, type {learner_name}.recorder.plot() to see the graph.\n"
     ]
    }
   ],
   "source": [
    "learner.lr_find()"
   ]
  },
  {
   "cell_type": "code",
   "execution_count": 27,
   "metadata": {
    "colab": {
     "base_uri": "https://localhost:8080/",
     "height": 279
    },
    "colab_type": "code",
    "id": "2URo5NE_4oJc",
    "outputId": "d105e507-4cab-4ac7-d82d-7eff7029d2f2"
   },
   "outputs": [
    {
     "data": {
      "image/png": "[encoded data removed]",
      "text/plain": [
       "<Figure size 432x288 with 1 Axes>"
      ]
     },
     "metadata": {
      "tags": []
     },
     "output_type": "display_data"
    }
   ],
   "source": [
    "learner.recorder.plot()\n",
    "#learning rate against loss and determine the lowest point (around 1e+00 for the plot below) \n",
    "# and go back by one magnitude and choose that as a learning rate (1e-01)"
   ]
  },
  {
   "cell_type": "code",
   "execution_count": 28,
   "metadata": {
    "colab": {
     "base_uri": "https://localhost:8080/",
     "height": 78
    },
    "colab_type": "code",
    "id": "NKYCBgXD5s-0",
    "outputId": "08569010-7214-4ffb-bfb5-051c5a9fc45c"
   },
   "outputs": [
    {
     "data": {
      "text/html": [
       "<table border=\"1\" class=\"dataframe\">\n",
       "  <thead>\n",
       "    <tr style=\"text-align: left;\">\n",
       "      <th>epoch</th>\n",
       "      <th>train_loss</th>\n",
       "      <th>valid_loss</th>\n",
       "      <th>accuracy</th>\n",
       "      <th>time</th>\n",
       "    </tr>\n",
       "  </thead>\n",
       "  <tbody>\n",
       "    <tr>\n",
       "      <td>0</td>\n",
       "      <td>6.830019</td>\n",
       "      <td>6.008559</td>\n",
       "      <td>0.157848</td>\n",
       "      <td>00:15</td>\n",
       "    </tr>\n",
       "  </tbody>\n",
       "</table>"
      ],
      "text/plain": [
       "<IPython.core.display.HTML object>"
      ]
     },
     "metadata": {
      "tags": []
     },
     "output_type": "display_data"
    }
   ],
   "source": [
    "learner.fit_one_cycle(1,1e-1)"
   ]
  },
  {
   "cell_type": "code",
   "execution_count": 29,
   "metadata": {
    "colab": {
     "base_uri": "https://localhost:8080/",
     "height": 78
    },
    "colab_type": "code",
    "id": "TC8nYhaO6DNY",
    "outputId": "e58b4907-698c-4202-b4db-7e2386643199"
   },
   "outputs": [
    {
     "data": {
      "text/html": [
       "<table border=\"1\" class=\"dataframe\">\n",
       "  <thead>\n",
       "    <tr style=\"text-align: left;\">\n",
       "      <th>epoch</th>\n",
       "      <th>train_loss</th>\n",
       "      <th>valid_loss</th>\n",
       "      <th>accuracy</th>\n",
       "      <th>time</th>\n",
       "    </tr>\n",
       "  </thead>\n",
       "  <tbody>\n",
       "    <tr>\n",
       "      <td>0</td>\n",
       "      <td>5.441105</td>\n",
       "      <td>5.429977</td>\n",
       "      <td>0.196187</td>\n",
       "      <td>00:18</td>\n",
       "    </tr>\n",
       "  </tbody>\n",
       "</table>"
      ],
      "text/plain": [
       "<IPython.core.display.HTML object>"
      ]
     },
     "metadata": {
      "tags": []
     },
     "output_type": "display_data"
    }
   ],
   "source": [
    "# unfreeze (unfreeze the whole model for training) and train the whole thing.\n",
    "learner.unfreeze()\n",
    "\n",
    "learner.fit_one_cycle(1,1e-2)\n"
   ]
  },
  {
   "cell_type": "code",
   "execution_count": 0,
   "metadata": {
    "colab": {},
    "colab_type": "code",
    "id": "LeVAWFI56_bc"
   },
   "outputs": [],
   "source": [
    "learner.save_encoder('ft_encoder')"
   ]
  },
  {
   "cell_type": "code",
   "execution_count": 31,
   "metadata": {
    "colab": {
     "base_uri": "https://localhost:8080/",
     "height": 35
    },
    "colab_type": "code",
    "id": "OYqiC6-NoeAc",
    "outputId": "d21fe49e-4f74-4238-dd25-eef3deab2fcf"
   },
   "outputs": [
    {
     "data": {
      "text/plain": [
       "'Each element of the dataset is a tuple, where the first element is beceneigh unsuccess insulin'"
      ]
     },
     "execution_count": 31,
     "metadata": {
      "tags": []
     },
     "output_type": "execute_result"
    }
   ],
   "source": [
    "learner.predict(\"Each element of the dataset is a tuple, where the first element is\", n_words=3)"
   ]
  },
  {
   "cell_type": "code",
   "execution_count": 32,
   "metadata": {
    "colab": {
     "base_uri": "https://localhost:8080/",
     "height": 35
    },
    "colab_type": "code",
    "id": "0SsTzdUPogZI",
    "outputId": "81cc4494-d957-4469-ef77-22e1e258d7ea"
   },
   "outputs": [
    {
     "data": {
      "text/plain": [
       "'This is a review about bmot ta xxbos puomc atyp'"
      ]
     },
     "execution_count": 32,
     "metadata": {
      "tags": []
     },
     "output_type": "execute_result"
    }
   ],
   "source": [
    "learner.predict(\"This is a review about\", n_words=5)"
   ]
  },
  {
   "cell_type": "markdown",
   "metadata": {
    "colab_type": "text",
    "id": "-kaUaxQ5-cCe"
   },
   "source": [
    "**3. Creating the classifier**\n",
    "\n",
    "\n",
    "create our classifier. Step one, is to create a data bunch, TextClasDataBunch, passing the vocab from the language model to make sure that this data bunch is going to have exactly the same vocab. Batch size bs to be used is according to the GPU memory you have available, for a 16GB GPU around bs=64 will work fine. You can find whatever batch size fits on your card and use it accordingly."
   ]
  },
  {
   "cell_type": "code",
   "execution_count": 0,
   "metadata": {
    "colab": {},
    "colab_type": "code",
    "id": "vtxx-n7T-dHz"
   },
   "outputs": [],
   "source": [
    "data_class = TextClasDataBunch.from_df(path = \"\", train_df = training_df, valid_df = test_df, vocab=data_lm.train_ds.vocab, bs=32)"
   ]
  },
  {
   "cell_type": "code",
   "execution_count": 34,
   "metadata": {
    "colab": {
     "base_uri": "https://localhost:8080/",
     "height": 1000
    },
    "colab_type": "code",
    "id": "oF5P2onR_Jmh",
    "outputId": "baa0866b-45ef-4318-b31b-28e5501d7486"
   },
   "outputs": [
    {
     "data": {
      "text/plain": [
       "RNNLearner(data=TextClasDataBunch;\n",
       "\n",
       "Train: LabelList (437 items)\n",
       "x: TextList\n",
       "xxbos ctmc leukemia xxunk bone marrow transplant sign di new year day sign swatlleebtik telshey md phd mr xxunk year old man histori myelodysplast syndrom acut myelogen leukemia present day statu post nonmyeloabl peripher blood stem cell transplant admit fatigu neutropenia abnorm chest ray januari patient found anem monitor close start folic acid august bone marrow biopsi show md abnorm xxunk treat xxunk due increas number blast four treatment cycl marrow remain hypercellular persist low level blast novemb bone marrow biopsi show cellular xxunk space xxunk aml cell xxunk start due splenic pain patient admit decemb mani quot peripher blood stem cell transplant quot cours without major complic sinc discharg hospit one week ago twin graft stem cell poli white blood cell differenti also persist blast patient taken gmcsf splenic pain pain improv febril transfus sever occas white blood cell count platelet count note steadili rise past week actual look littl bit better today previous past three day complain pain shoulder motion also littl bit pain left lower quadrant chest ray obtain demonstr right lobe infiltr possibl fungal etiolog patient admit evalu treatment aml coronari arteri diseas statu post myocardi infarct stent placement hypertens hyperlipidemia scrofula lymph node penicillin caus rash atenolol mg daili folic acid prilosec mg daili tacrolimu mg mg fluconazol start five day prior admiss treat thrush acyclovir mg mepron mg levaquin mg daili oxycodon mg pain doxazosin patient xxunk engag live xxunk smoke drink alcohol use illicit drug patient report five day right upper extrem axillari posterior shoulder pain describ shoot natur patient deni radiat pain right upper extrem deni weak right upper extrem fever chill dysuria congest report minim rare dri cough date back novemb th think relat gerd left upper quadrant pain consist previous known splenic pain also report xxunk clear discharg temperatur pul rate blood pressur respiratori rate oxygen satur room air admiss weight kilogram gener patient describ tire appear howev comfort acut distress oropharynx dri lesion bleed regular rate rhythm crackl base decreas breath sound abdomen soft tender left upper quadrant without hepatosplenomegali xxunk without rash cranial nerv ii xii intact nonfoc exam extrem without edema left side doubl lumen hickman nontend without xxunk sodium potassium chlorid co bun creatinin glucos alt ast ldh alkalin phosphatas bili calcium magnesium white blood cell count poli blast lymph monocyt hematocrit platelet chest ray reveal right upper infiltr chest cat scan notabl right upper lobe consolid right pleural effus find consist pneumonia mr lyfranklapalm kote year old man histori myelodysplast syndrom could vari acut myelogen leukemia statu post nonmyeloabl allogen transplant via protocol gvax studi readmit right upper lobe infiltr patient statu post nonmyeloabl quot mani allogen bone marrow transplant neutrophil yet twin graft gmcsf stop set increas splenic pain throughout admiss patient climb level blast day discharg consist recurr leukem diseas immunosuppress discontinu except tacrolimu tacrolimu continu reduc dose mg daili patient could remain gvax studi admiss cat scan ray chest notabl right upper lobe infiltr patient afebril upon admiss remain afebril throughout cours infecti diseas pulmonari servic activ involv admiss consult servic felt initi imag consist focal fungal question xxunk xxunk infiltr start empir start empir voriconazol given patient apo histori scrofula mild concern possibl activ tuberculosi patient rule tb serial sputum induct studi bronchoscopi perform wash cultur viral studi neg remain growth date cmv viral load neg serum xxunk level neg consider xxunk procedur obtain definit diagnosi howev presenc recurr leukem diseas patient continu declin option inpati antibiot xxunk treatment includ prophylact acyclovir mepron per protocol empir levaquin empir xxunk empir fluconazol patient thrush patient activ bleed admiss patient given red blood cell platelet maintain hematocrit platelet count patient remain hemodynam stabl throughout admiss one brief episod chest pain spontan resolv rule myocardi infarct serial enzym workup pursu patient right middl finger pain develop admiss without preced trauma pain felt due arthriti plain film ray reveal boni injuri celexa mg daili start admiss treatment depress acut myelogen leukemia right upper lobe infiltr otherwis xxunk possibl infecti xxunk versu recurr leukem diseas patient discharg home ah servic patient schedul see dr kama scpra cover dr telshey swatlleebtik januari patient also appoint day blood draw infus necessari acyclovir mg atenolol mg daili peridex ml colac mg folic acid mg daili nystatin suspens cc oxycodon mg pain eucerin lotion appli topic dri skin senna two tablet constip multivitamin tablet daili doxazosin mg daili tacrolimu mg daili mepron mg levofloxacin mg daili celexa mg daili voriconazol mg prilosec mg daili magnesium oxid mg patient advis take medic keep appoint instruct addit told call doctor fever chill sever headach lightheaded dizzi cold flu like symptom cough short breath chest discomfort stomach ach nausea vomit persist loo bowel movement pain difficulti urin bleed skin rash unabl take medic reason tm telshey swatlleebtik venbonlea health xxunk telshey swatlleebtik md phd new mexico koterud conrelli swatlleebtik telshey dictat i d,xxbos wgh ed discharg summari unsign di unsign ed discharg notif summari xxunk xxunk xxunk xxunk xxunk preliminari report swollen pain side fc upper lip nostril abscess cc purul materi drain needl aspir augmentin mg twice day day plea see pcp follow return immedi worsen sign infect increas swell pain red neurolog chang blurri doubl vision headach troubl walk etc xxunk xxunk,xxbos elmvh vagin birth di discharg order xxunk xxunk drain gener hospit ob conting upon applic ye belbbreutz liliqu home docus sodium mg po bid prn ibuprofen mg po prn pain percocet tab po prn pain restrict activ toler dr belbbreutz week xxunk floxin iup term prodrom labor spontan vagin deliveri xxunk princip discharg diagnosi respons studi caus admiss vagin birth diagnosi condit infect complic affect treatment stay vagin birth belbbreutz liliqu deliveri treatment procedur none observ abnorm stabl dictat summari end discharg order,xxbos hlgmc discharg summari sign di sign xxunk xxunk gastric carcinoma abdomin ct scan oncolog consult palli care consult painless jaundic patient year old gentleman histori progress supranuclear palsi hypertens diabet mellitu present painless jaundic increas lethargi four day patient evalu heaonboburg linpack grant medic center dr joasscchird progress worsen attack found progress supranuclear palsi secondari accord famili sever bout aspir pneumonia mechan fall secondari worsen ataxia patient place hend geadcoastcar hospit oa ten month four day prior admiss patient found painless jaundic elev liver function test patient transfer heaonboburg linpack grant medic center evalu painless jaundic admit five pound weight loss otherwis deni local symptom emerg depart afebril temperatur blood pressur breath respir minut oxygen satur room air underw abdomin examin abdomin ct scan chest ray emerg depart receiv lactulos ativan levaquin prior transfer floor progress supranuclear palsi hypertens diabet mellitu glaucoma remot xxunk appendectomi cervic djd nkda colac mg po xxunk mg tablet po meal zyprexa mg po qh celexa mg po qh trazodon mg po qh dulcolax mg suppositori prn iron sulfat mg po day novolin unit subcutan morn norvasc mg po day multivitamin one tab po day xxunk mg po day atenolol mg po day lasix mg po day novolin two unit subcutan noon live nurs home past ten month use live wife son texa smoke pack half five year current smoker apo drink illicit drug use famili histori cancer mother die myocardi infarct admiss physic examin show elderli jaundic gentleman letharg moist mucou membran jugular venou distent nontend sinus crackl base bilater regular rate rhythm iii vi systol eject murmur left sternal border normal bowel sound slightli distend belli nontend bulg flank appreci hepatosplenomegali rectal examin guaiac neg asterixi cyanosi club edema pul equal bilater neurolog awak alert orient three intermitt fell asleep examin letharg arous voic jaundic throughout spider angioma terri apo xxunk admiss lab reveal ammonia level chemistri otherwis normal glucos direct bilirubin total bilirubin alkalin phosphatas serum glutam xxunk transaminas amylas lipas serum glutam oxaloacet transaminas complet blood count show anemia hematocrit microcyt mean corpuscular volum urinalysi show posit nitrit white blood cell neg bacteria radiolog chest ray show stabl appear lung liver normal size evid biliari dilat comput xxunk scan reveal diffus thicken stomach wall involv greater lesser curvatur well antrum bowel wall thicken extend first second portion duodenum addit diffus mesenter portal retroperiton bulki lymphadenopathi soft tissu densiti involv porta xxunk diffus xxunk within mesenteri mild intrahepat ductal dilat admiss patient year old gentleman progress supranuclear palsi present painless jaundic concern abdomin ct scan find patient receiv biopsi stomach line june read poorli differenti adenocarcinoma xxunk ring cell type focal intestin xxunk read heaonboburg linpack grant medic center xxunk point oncolog consult obtain diseas carri morbid prognosi given patient apo poor function statu baselin famili meet xxunk wife oncolog personnel palli care physician well primari care team xxunk xxunk freierm decid make patient comfort meet mean receiv chemotherapi type includ palli chemotherapi also gastroenterolog consult recommend stent placement focal stenosi could interven upon meet made resuscit intub discharg hend geadcoastcar hospit emphasi entir patient apo comfort antiemet need pain control need nutrit comfort addit medic care patient want readmit medic facil medic discharg prescrib xxunk hospit current pend time dictat ad discharg summari xxunk hend geadcoastcar hospit question concern patient plea feel free contact doll grendbl pager i d doll bridg electron sign doll bridg doll bridg xxunk doll bridg,xxbos tgcho discharg summari unsign di unsign right middl cerebr arteri stroke secondari left ventricular thrombu embol secondari recent anterolater myocardi infarct exact date undetermin coli urinari tract infect diagnos hypertens left ventricular hypertrophi coronari arteri diseas angina pectori recent myocardi infarct hyperlipidemia left extra capsular cataract extract right intraocular len recent magnet reson imag studi mra echocardiogram computer tomographi scan brain patient year old right hand domin hispan femal admit new onset left hemiparesi neglect histori xxunk son answer xxunk sever time said noth el hung attempt call anoth phone time found line xxunk final open door thought left foot drag mild left facial droop slur speech brought emerg room note suffer increas angina pectori use sublingu nitroglycerin tablet per day last seen cardiologist dr three week prior admiss time mark hypertens angina pectori xxunk come hospit refus intervent right extra capsular cataract extract intraocular len placement past histori coronari arteri diseas prior right eye surgeri subendocardi ischem chang electrocardiogram atyp chest pain eight year exercis toler test thallium accord modifi bruce protocol stop secondari stage hypertens respons chest pain reliev nitrat associ inferoap ischem st depress left ventricl dilat time unfortun left medic advic defer eye surgeri addit hyperlipidemia xxunk cholesterol hdl ldl procardia xl day atenolol day xxunk tablet day sublingu nitroglycerin prn mevacor physic examin blood pressur pul beat per minut left cheek abras probabl fallen carotid without bruit chest examin signific addit left fourth sound rest examin within normal limit examin howev demonstr eye close arous voic scan right field left would turn loud nois voic pain left orient correct date hospit attent much easili distract comprehend two three stage command pauciti spontan speech mild dysarthria name repetit found intact xxunk poor left side neglect xxunk line right midlin xxunk name xxunk time recogn left hand describ problem decreas sensat left arm xxunk arm demonstr decreas blink threat left pupil owe right implant den left cataract right pupil ovoid reactiv left round reactiv millimet fundus seen left normal xxunk present left absent right right gaze prefer full oculocephal full xxunk ocular reflex xxunk mild reduct sensat side face left cornea mild left facial weak palat midlin decreas gag tongu midlin weak left side greater arm leg face left arm pronat drift le three second motor xxunk decreas tone left upper extrem increas tone left lower extrem spontan left lower extrem local deep pain left side deep pain bilater local right withdraw purpos attend left side examin deep tendon reflex throughout knee ankl jerk left side tripl xxunk stimul admiss sodium potassium chlorid bicarbon bun creatinin glucos white blood count hematocrit platelet count prothrombin time partial thromboplastin time first cpk chest ray demonstr earli interstiti edema head computer tomographi scan demonstr atrophi xxunk cortex earli high right pariet convex hemorrhag increas intens vessel electrocardiogram demonstr beat per minut sinu left ventricular hypertrophi st depress wave invers anterolater lead avf patient year old femal unstabl angina pectori associ electrocardiogram chang new right pariet stroke syndrom sudden onset might well suffer xxunk embol thrombu serial cardiac enzym detect recent myocardi infarct echocardiogram demonstr segment left ventricular dysfunct involv left ventricular apex associ increas echo densiti apex possibl repres organ thrombu estim eject fraction thicken multipl aortic leaflet stenosi calcif posterior mitral annulu mild mitral regurgit doppler holter monitor demonstr basic sinu rhythm frequent ventricular prematur contract infrequ supraventricular ectop occasion short run longest nine beat rate beat per minut persist st depress throughout carotid non invas studi demonstr mild right intern carotid arteri stenosi bilater extern carotid arteri stenos right greater left sever left intern carotid arteri stenosi well xxunk flow left ophthalm arteri repeat chest ray demonstr resolut pulmonari edema follow diuret magnet reson imag studi brain demonstr acut right middl cerebr arteri infarct attenu distal segment pauciti vascular flow void within right sylvian fissur multipl lacun relat hypertens present find confirm mra xxunk xxunk hospit cours smooth steadi improv left hemineglect syndrom increas interact team particular son around increas xxunk first five day nourish tube feed convert speech patholog evalu type ii dysphagia diet eat close supervis necessari encourag minim fluid intak one liter per day investig includ liver function test normal urinari cathet insert owe urinari incontin fecal incontin repeat urin cultur clear pan sensit coli urinari tract infect document associ peripher leukocytosi fever treat bactrim night prior discharg brief episod two minut central chest pain like usual angina pectori accord son resolv immedi sublingu nitrat associ electrocardiogram chang good night prior transfer prior transfer left hemiparesi increas movement left upper extrem abl sit littl support trunk abl transfer chair patient eat dysphagia diet hemineglect syndrom improv consider patient rehabilit villtionnca hospit multivitamin tablet po vitamin mg po colac mg po metoprolol mg po furosemid mg po day milk magnesia cc qh prn isordil mg po hold systol blood pressur le warfarin mg po qh last dose last night mg adjust accord inr aim sucralf gram po bactrim doubl strength one tablet po seven day nitroglycerin mg sublingu prn lactulos mg prn dysphagia diet supervis requir speech occup therapi physic therapi follow dr neurolog clinic follow cardiolog clinic dr new york telephon dr du xxunk hospit chang medic made refer qo bmot dr len fyfejescdoyl dr du xxunk na xxunk gener hospit dr cori xxunk dr xxunk xxunk dr aa xxunk stat\n",
       "y: CategoryList\n",
       "1,0,0,0,1\n",
       "Path: .;\n",
       "\n",
       "Valid: LabelList (256 items)\n",
       "x: TextList\n",
       "xxbos surgeri patient record known allergi drug alter mental statu diaphoresi abdomin pain lap convert open cholecystectomi year old xxunk speak femal present emerg depart famili xxunk state found home alter mental statu diaphoresi diabet mental statu improv xxunk cannula oxygen appli time local right upper quadrant pain develop leukocytosi xxunk dm insulin htn gerd pvd xxunk arthriti osteoporosi anemia cholelithiasi left humer fractur cataract surgeri uterin myomectomi distant tobacco drink often includ xxunk walk without cane train engin xxunk new xxunk brother nephew daughter xxunk near deni cad xxunk xxunk gallop xxunk sign right upper quadrant tender nondistend rebound decreas babinski gb distend gallbladd impact cm gallston focal wall thicken posit xxunk stephen sign find consist acut cholecyst right renal cyst lower pole cyst unchang prior exam upper pole xxunk cyst previous seen xxunk ercp report success remov cbd stone placement plastic biliari stent confirm cystic duct leak xxunk admit due alter mental statu acut right upper quadrant abdomin pain gallbladd xxunk sound reveal distend cm non mobil stone neck hd monitor close cmed taken lap convert open cholecystectomi toler procedur well see op report detail extub recov well pacu remain npo iv fluid foley cathet dilaudid iv pain control unasyn antibiot coverag return cmed monitor note low urin output time respond well fluid bolus pod transfer cc recoveri remain afebril given ice xxunk physic therapi consult strength mobil pod pain somewhat uncontrol place dilaudid pca fair effect urin output remain adequ monitor telemetri mild tachycardia reciev iv beta blocker ambul assist pod advanc sip clear foley cathet discontinu pod biliou drainag note jp worsen abdomin pain exam held npo taken ercp sphincterotomi perform biliari stent place toler procedur well return cc post procedur jp remain intact xxunk drainag pod difficulti void pt straight cath bladder scan obtain reveal cc urin pod continu intermitt complaint urinari retent howev abl void renal function remain normal requir straight catheter advanc clear liquid without nausea vomit pain well control tylenol home regimen lantu resum elev blood glucos pod diet advanc regular requir xxunk hard stool rectum initi bowel regimen incid diarrhea constip pod discharg rehab stabl condit appropri follow appoint recommend well prescript return week remov biliari stent insulin slide scale insulin sc slide scale regular glucos insulin dose mg xxunk amp mg xxunk unit mg xxunk unit mg xxunk unit mg xxunk unit mg xxunk unit mg xxunk unit mg xxunk unit mg xxunk unit mg xxunk unit mg xxunk unit mg xxunk unit mg xxunk notifi lantu unit lantu insulin breakfast insulin slide scale insulin sc slide scale regular glucos insulin dose mg xxunk amp mg xxunk unit mg xxunk unit mg xxunk unit mg xxunk unit mg xxunk unit mg xxunk unit mg xxunk unit mg xxunk unit mg xxunk unit mg xxunk unit mg xxunk unit mg xxunk notifi unit lantu insulin breakfast extend care new england sinai hospit rehab center xxunk acut cholecyst gangren cholecyst perfor good plea call surgeon develop chest pain short breath fever greater foul smell color drainag incis red swell sever abdomin pain distent persist nausea vomit inabl eat drink symptom concern tub bath swim may shower clear drainag incis cover dri dress leav white strip incis place allow fall take stool soften colac mg twice daili need constip given pain medic may make drowsi drive take pain medicin plea call schedul appoint see dr lewi week contact gastrointestin doctor pat xxunk remov biliari stent week xxunk xxunk md end report,xxbos neonatolog patient week gestat femal triplet number two deliv cesarean section due progress preterm labor triplet gestat mother year old gravida para mother xxunk xxunk xxunk xxunk prenat screen posit antibodi neg rpr nonreact hepat surfac antigen neg reportedli gb neg rubella immun pregnanc complic gestat diabet mellitu possibl preterm labor mother present abdomin discomfort vagin pressur week time admit receiv full cours betamethason week remain hous deliveri mother present day deliveri preterm labor cervic dilat therefor deliv repeat cesarean section triplet requir blow oxygen routin care deliveri room apgar one minut five minut infant demonstr mild increas work breath deliveri room infant transport neonat intens care unit facial cpap birth weight gram th percentil head circumfer cm th percentil length cm th percentil nondysmorph overal appear consist gestat age anterior fontanel soft open flat red reflex present bilater palat intact intermitt grunt moder intercost retract diminish air xxunk regular rate rhythm without murmur femor pul abdomen benign hepatosplenomegali mass extern femal genitalia normal back extrem stabl hip appropri tone skin pink fair perfus admiss infant requir cpap cm water oxygen initi capillari blood ga ph co infant intub day life two increas respiratori distress receiv one dose xxunk infant extub day life four cpap transit room air day life six infant remain room air throughout hospit caffein citrat start day life six discontinu day life last apnea bradycardia infant remain hemodynam stabl throughout hospit murmur heart rate mean blood pressur infant initi noth mouth receiv cc per kilogram per day intraven infant start enter feed day life four advanc full volum feed cc per kilogram per day day life seven feed advanc infant given parenter nutrit xxunk infant toler feed advanc without difficulti infant advanc maximum calor densiti breast milk prematur enfamil calori per ounc xxunk day life infant current breast milk enfamil calori per ounc po minimum cc per kilogram per day recent weight head circumfer cm length cm recent electrolyt day life five sodium chlorid potassium tco day life calcium phosphoru alkalin phosphatas infant start doubl phototherapi day life two maximum bilirubin level direct infant decreas singl phototherapi phototherapi discontinu day life six rebound bilirubin level day life seven direct infant receiv blood transfus hospit recent hematocrit day life two cbc admiss white blood cell count hematocrit platelet neutrophil band repeat cbc day life two show white blood cell count platelet neutrophil band repeat platelet count day life three infant receiv hour ampicillin gentamicin rule sepsi blood cultur remain neg date infant issu sepsi hospit head ultrasound day life seven show intraventricular hemorrhag repeat head ultrasound day life show slight increas xxunk xxunk xxunk may repres tini bilater xxunk xxunk hemorrhag periventricular leukomalacia repeat head ultrasound recommend one month normal neurolog examin sensori hear screen perform autom auditori brain stem respons infant pas ear ophthalmolog eye examin recent reveal xxunk retin vessel xxunk yet follow examin schedul week xxunk dr xxunk franklin parent involv triplet number one still neonat intens care unit triplet number three home famili also year old sibl stabl room air home parent dr xxunk xxunk phone number fax feed breast milk enfamil calori per ounc breast milk mix calori per ounc enfamil powder minimum cc per kilogram per day po ferrou sulfat mg per ml mg per kilogram per day car seat posit screen pas hear screen pas state newborn screen sent abnorm result report immun infant receiv hepat vaccin immun recommend synagi rsv prophylaxi consid octob april infant meet follow three criterion born le week born week two three follow day care rsv season smoker household xxunk diseas airway abnorm school age sibl chronic lung diseas influenza immun recommend annual fall infant reach six month age age first month child life immun influenza recommend household contact home caregiv primari pediatrician ophthalmolog dr wilson visit nurs associ earli intervent program prematur triplet number two statu post respiratori distress statu post rule sepsi rule statu post apnea prematur statu post xxunk hyperbilirubinemia richard xxunk medquist end report,xxbos sc endometri carcinoma sign di sign endometri cancer endometri cancer total abdomin hysterectomi bilater salpingo oophorectomi year old present dr xxunk apo clinic abnorm pap smear follow endometri biopsi suggest grade endometri cancer patient past year men thought becom menopaus began spot sever month constant brown discharg pap smear obtain primari care physician show endometri cell thu refer gynecologist endometri biopsi endometri biopsi show grade endometri cancer decis made proceed surgic manag find migrain penicillin two cesarean section menarch regular men age becom irregular sever year first child age one normal spontan vagin deliveri two cesarean section patient prior smoker quit marri xxunk indocin celebrex verapamil migrain mother colon polyp matern xxunk matern aunt colon cancer pas away diseas addit histori breast ovarian uterin cancer famili well develop well nourish femal foot inch pound mass clear auscult regular rate rhythm soft mildli obes pfannenstiel scar visual normal xxunk normal appear cervix small mobil uteru addit mass nodul appreci exam patient admit day surgeri underw tah bso uncompl detail procedur found oper dictat short frozen patholog uteru show grade cancer invas xxunk xxunk dissect done time patient toler procedur extrem well well postop cours postop day eat ambul void decid discharg home time percocet colac follow appoint dr xxunk four week arl xxunk xxunk xxunk xxunk ry xxunk index xxunk,xxbos ct cmed csru mr xxunk year old gentleman initi present hematemesi hemoptysi work found left lower lobe mass previous underw bronchoscopi wash show neg malign cell show atyp bronchial epitheli cell like reactiv rectal fissur lumpectomi left breast nodul knee surgeri hand surgeri patient known drug allergi patient home medic review system essenti neg admiss show gentleman acut distress afebril chest clear auscult bilater heart regular rate rhythm abdomen benign mass extrem well perfus warm patient taken oper room day admiss underw left bronchoscopi lower lobectomi left side oper subsequ complic postop bleed patient taken back oper room repair left pulmonari arteri perform patient transfer csru intub stabl condit vascular surgeri servic also consult oper patient receiv unit pack red blood cell four unit fresh frozen plasma one unit platelet estim blood loss cc patient remain stabl floor subsequ monitor hematocrit within normal stabl rang success extub hypertens transfer floor stabl condit pain servic manag epidur good effect toler regular diet make adequ amount urin recoveri essenti unremark epidur success discontinu discharg home instruct follow dr xxunk offic within next one two week discharg home pain medic percocet stabl home without servic left lung mass statu post resect xxunk xxunk medquist end report,xxbos fih coronari arteri diseas unsign di unsign xxunk ni coronari arteri diseas fail coronari arteri bypass graft prior myocardi infarct hypertens elev cholesterol renal insuffici congest heart failur dual chamber pacemak gener chang xxunk xxunk dr bilater heart catheter left ventriculographi bilater coronari angiographi bypass graft angiographi intern mammari arteri angiographi aspirin mg po lipitor mg po toprol xl mg po lasix mg mg potassium chlorid meq po xxunk xxunk imdur mg po vitamin intern unit prilosec mg po xxunk year old patient dr brendniungand asilbekot xxunk refer progress angina rheumatoid fever child heart murmur note test use antibiot prophylaxi sinc xxunk coronari arteri bypass graft surgeri dr xxunk xxunk xxunk commun hospit well exert angina posit stress test found three four graft occlud octob dr bypass oper left intern mammari arteri graft left anterior descend saphen vein graft obtus margin saphen vein graft obtus margin ddd pacemak complet heart block exert angina time novemb small myocardi infarct transfer xxunk hospit cardiac catheter show tight left intern mammari arteri left anterior descend stenosi high grade saphen vein graft obtus margin stenosi patent obtus margin graft normal left ventricular function apic tip akinesi sinc time continu exert left chest burn radiat left neck arm reliev nitroglycerin turn surgeri time percutan translumin coronari angioplasti symptom increas particularli cardiac rehabilit refer may exercis toler test heart rate went blood pressur fell systol diffus ischem st segment chang increas lung uptak revers anterior later defect syncop cardiac risk factor hypertens elev cholesterol strong famili histori coronari arteri diseas mother sister brother die myocardi infarct remot cigarett smoker also histori lactos intoler peptic ulcer diseas remot gastrointestin bleed multipl ectop pregnanc mid term xxunk total abdomin hysterectomi widow year retir year xxunk live alon son nertland nearbi work em xxunk medic center xxunk live ohio healthi appear femal foot pound blood pressur pul regular neck vein distend respiratori rate bruit lung clear systol eject murmur abdomen benign peripher pul intact neurolog examin non focal admiss includ electrocardiogram show ddd pace hematocrit percent white blood cell count pt ptt normal sodium potassium chlorid carbon dioxid bun creatinin patient admit cardiac catheter laboratori pulmonari wedg pressur right atrial pressur pulmonari arteri pressur left ventricular contract show akinesi anterior wall dyskinesi apex preserv inferior contract basal contract nativ right left anterior descend vessel occlud obtus margin branch saphen vein high diagon high obtus margin occlud left intern mammari arteri left anterior descend also occlud saphen vein graft second obtus margin open signific stenosi xxunk lesion obtus margin well sever distal lesion obtus margin fed posterior descend arteri consid culprit lesion consid high risk angioplasti sever diseas graft addit note saphen vein harvest thigh left intern mammari arteri also xxunk also note failur sen atrial lead would sen atrial contract fire occasion led xxunk fire intermitt wave amplitud could total sen patient admit manag coronari arteri diseas evalu pacemak note becam symptomat beta blocker beta blocker signific pacemak failur pacemak set vvi mode sen appropri sinu rhythm time pacemak sinu rhythm without beta blocker signific angina carotid non invas test unremark situat review dr nist graft felt patient coronari arteri bypass graft candid lack xxunk presenc larg anterior myocardi infarct reason decid maxim beta blocker nitrat situat review dr pacemak servic august local anesthesia right xxunk region explor lead xxunk pul gener chang xxunk unit sensit could adjust mm permit appropri atrial sen noth xxunk prior gener noth xxunk lead need unit could sensit atrial mode toler well medic resum ambul without difficulti discharg home follow medic coronari arteri diseas follow two fail bypass graft procedur dr brendniungand asilbekot bi xxunk xxunk graft xxunk xxunk xxunk graft xxunk xxunk\n",
       "y: CategoryList\n",
       "0,0,0,0,1\n",
       "Path: .;\n",
       "\n",
       "Test: None, model=SequentialRNN(\n",
       "  (0): MultiBatchEncoder(\n",
       "    (module): AWD_LSTM(\n",
       "      (encoder): Embedding(6160, 400, padding_idx=1)\n",
       "      (encoder_dp): EmbeddingDropout(\n",
       "        (emb): Embedding(6160, 400, padding_idx=1)\n",
       "      )\n",
       "      (rnns): ModuleList(\n",
       "        (0): WeightDropout(\n",
       "          (module): LSTM(400, 1152, batch_first=True)\n",
       "        )\n",
       "        (1): WeightDropout(\n",
       "          (module): LSTM(1152, 1152, batch_first=True)\n",
       "        )\n",
       "        (2): WeightDropout(\n",
       "          (module): LSTM(1152, 400, batch_first=True)\n",
       "        )\n",
       "      )\n",
       "      (input_dp): RNNDropout()\n",
       "      (hidden_dps): ModuleList(\n",
       "        (0): RNNDropout()\n",
       "        (1): RNNDropout()\n",
       "        (2): RNNDropout()\n",
       "      )\n",
       "    )\n",
       "  )\n",
       "  (1): PoolingLinearClassifier(\n",
       "    (layers): Sequential(\n",
       "      (0): BatchNorm1d(1200, eps=1e-05, momentum=0.1, affine=True, track_running_stats=True)\n",
       "      (1): Dropout(p=0.2, inplace=False)\n",
       "      (2): Linear(in_features=1200, out_features=50, bias=True)\n",
       "      (3): ReLU(inplace=True)\n",
       "      (4): BatchNorm1d(50, eps=1e-05, momentum=0.1, affine=True, track_running_stats=True)\n",
       "      (5): Dropout(p=0.1, inplace=False)\n",
       "      (6): Linear(in_features=50, out_features=2, bias=True)\n",
       "    )\n",
       "  )\n",
       "), opt_func=functools.partial(<class 'torch.optim.adam.Adam'>, betas=(0.9, 0.99)), loss_func=FlattenedLoss of CrossEntropyLoss(), metrics=[<function accuracy at 0x7f03fa2b4f28>], true_wd=True, bn_wd=True, wd=0.01, train_bn=True, path=PosixPath('.'), model_dir='models', callback_fns=[functools.partial(<class 'fastai.basic_train.Recorder'>, add_time=True, silent=False)], callbacks=[RNNTrainer\n",
       "learn: RNNLearner(data=TextClasDataBunch;\n",
       "\n",
       "Train: LabelList (437 items)\n",
       "x: TextList\n",
       "xxbos ctmc leukemia xxunk bone marrow transplant sign di new year day sign swatlleebtik telshey md phd mr xxunk year old man histori myelodysplast syndrom acut myelogen leukemia present day statu post nonmyeloabl peripher blood stem cell transplant admit fatigu neutropenia abnorm chest ray januari patient found anem monitor close start folic acid august bone marrow biopsi show md abnorm xxunk treat xxunk due increas number blast four treatment cycl marrow remain hypercellular persist low level blast novemb bone marrow biopsi show cellular xxunk space xxunk aml cell xxunk start due splenic pain patient admit decemb mani quot peripher blood stem cell transplant quot cours without major complic sinc discharg hospit one week ago twin graft stem cell poli white blood cell differenti also persist blast patient taken gmcsf splenic pain pain improv febril transfus sever occas white blood cell count platelet count note steadili rise past week actual look littl bit better today previous past three day complain pain shoulder motion also littl bit pain left lower quadrant chest ray obtain demonstr right lobe infiltr possibl fungal etiolog patient admit evalu treatment aml coronari arteri diseas statu post myocardi infarct stent placement hypertens hyperlipidemia scrofula lymph node penicillin caus rash atenolol mg daili folic acid prilosec mg daili tacrolimu mg mg fluconazol start five day prior admiss treat thrush acyclovir mg mepron mg levaquin mg daili oxycodon mg pain doxazosin patient xxunk engag live xxunk smoke drink alcohol use illicit drug patient report five day right upper extrem axillari posterior shoulder pain describ shoot natur patient deni radiat pain right upper extrem deni weak right upper extrem fever chill dysuria congest report minim rare dri cough date back novemb th think relat gerd left upper quadrant pain consist previous known splenic pain also report xxunk clear discharg temperatur pul rate blood pressur respiratori rate oxygen satur room air admiss weight kilogram gener patient describ tire appear howev comfort acut distress oropharynx dri lesion bleed regular rate rhythm crackl base decreas breath sound abdomen soft tender left upper quadrant without hepatosplenomegali xxunk without rash cranial nerv ii xii intact nonfoc exam extrem without edema left side doubl lumen hickman nontend without xxunk sodium potassium chlorid co bun creatinin glucos alt ast ldh alkalin phosphatas bili calcium magnesium white blood cell count poli blast lymph monocyt hematocrit platelet chest ray reveal right upper infiltr chest cat scan notabl right upper lobe consolid right pleural effus find consist pneumonia mr lyfranklapalm kote year old man histori myelodysplast syndrom could vari acut myelogen leukemia statu post nonmyeloabl allogen transplant via protocol gvax studi readmit right upper lobe infiltr patient statu post nonmyeloabl quot mani allogen bone marrow transplant neutrophil yet twin graft gmcsf stop set increas splenic pain throughout admiss patient climb level blast day discharg consist recurr leukem diseas immunosuppress discontinu except tacrolimu tacrolimu continu reduc dose mg daili patient could remain gvax studi admiss cat scan ray chest notabl right upper lobe infiltr patient afebril upon admiss remain afebril throughout cours infecti diseas pulmonari servic activ involv admiss consult servic felt initi imag consist focal fungal question xxunk xxunk infiltr start empir start empir voriconazol given patient apo histori scrofula mild concern possibl activ tuberculosi patient rule tb serial sputum induct studi bronchoscopi perform wash cultur viral studi neg remain growth date cmv viral load neg serum xxunk level neg consider xxunk procedur obtain definit diagnosi howev presenc recurr leukem diseas patient continu declin option inpati antibiot xxunk treatment includ prophylact acyclovir mepron per protocol empir levaquin empir xxunk empir fluconazol patient thrush patient activ bleed admiss patient given red blood cell platelet maintain hematocrit platelet count patient remain hemodynam stabl throughout admiss one brief episod chest pain spontan resolv rule myocardi infarct serial enzym workup pursu patient right middl finger pain develop admiss without preced trauma pain felt due arthriti plain film ray reveal boni injuri celexa mg daili start admiss treatment depress acut myelogen leukemia right upper lobe infiltr otherwis xxunk possibl infecti xxunk versu recurr leukem diseas patient discharg home ah servic patient schedul see dr kama scpra cover dr telshey swatlleebtik januari patient also appoint day blood draw infus necessari acyclovir mg atenolol mg daili peridex ml colac mg folic acid mg daili nystatin suspens cc oxycodon mg pain eucerin lotion appli topic dri skin senna two tablet constip multivitamin tablet daili doxazosin mg daili tacrolimu mg daili mepron mg levofloxacin mg daili celexa mg daili voriconazol mg prilosec mg daili magnesium oxid mg patient advis take medic keep appoint instruct addit told call doctor fever chill sever headach lightheaded dizzi cold flu like symptom cough short breath chest discomfort stomach ach nausea vomit persist loo bowel movement pain difficulti urin bleed skin rash unabl take medic reason tm telshey swatlleebtik venbonlea health xxunk telshey swatlleebtik md phd new mexico koterud conrelli swatlleebtik telshey dictat i d,xxbos wgh ed discharg summari unsign di unsign ed discharg notif summari xxunk xxunk xxunk xxunk xxunk preliminari report swollen pain side fc upper lip nostril abscess cc purul materi drain needl aspir augmentin mg twice day day plea see pcp follow return immedi worsen sign infect increas swell pain red neurolog chang blurri doubl vision headach troubl walk etc xxunk xxunk,xxbos elmvh vagin birth di discharg order xxunk xxunk drain gener hospit ob conting upon applic ye belbbreutz liliqu home docus sodium mg po bid prn ibuprofen mg po prn pain percocet tab po prn pain restrict activ toler dr belbbreutz week xxunk floxin iup term prodrom labor spontan vagin deliveri xxunk princip discharg diagnosi respons studi caus admiss vagin birth diagnosi condit infect complic affect treatment stay vagin birth belbbreutz liliqu deliveri treatment procedur none observ abnorm stabl dictat summari end discharg order,xxbos hlgmc discharg summari sign di sign xxunk xxunk gastric carcinoma abdomin ct scan oncolog consult palli care consult painless jaundic patient year old gentleman histori progress supranuclear palsi hypertens diabet mellitu present painless jaundic increas lethargi four day patient evalu heaonboburg linpack grant medic center dr joasscchird progress worsen attack found progress supranuclear palsi secondari accord famili sever bout aspir pneumonia mechan fall secondari worsen ataxia patient place hend geadcoastcar hospit oa ten month four day prior admiss patient found painless jaundic elev liver function test patient transfer heaonboburg linpack grant medic center evalu painless jaundic admit five pound weight loss otherwis deni local symptom emerg depart afebril temperatur blood pressur breath respir minut oxygen satur room air underw abdomin examin abdomin ct scan chest ray emerg depart receiv lactulos ativan levaquin prior transfer floor progress supranuclear palsi hypertens diabet mellitu glaucoma remot xxunk appendectomi cervic djd nkda colac mg po xxunk mg tablet po meal zyprexa mg po qh celexa mg po qh trazodon mg po qh dulcolax mg suppositori prn iron sulfat mg po day novolin unit subcutan morn norvasc mg po day multivitamin one tab po day xxunk mg po day atenolol mg po day lasix mg po day novolin two unit subcutan noon live nurs home past ten month use live wife son texa smoke pack half five year current smoker apo drink illicit drug use famili histori cancer mother die myocardi infarct admiss physic examin show elderli jaundic gentleman letharg moist mucou membran jugular venou distent nontend sinus crackl base bilater regular rate rhythm iii vi systol eject murmur left sternal border normal bowel sound slightli distend belli nontend bulg flank appreci hepatosplenomegali rectal examin guaiac neg asterixi cyanosi club edema pul equal bilater neurolog awak alert orient three intermitt fell asleep examin letharg arous voic jaundic throughout spider angioma terri apo xxunk admiss lab reveal ammonia level chemistri otherwis normal glucos direct bilirubin total bilirubin alkalin phosphatas serum glutam xxunk transaminas amylas lipas serum glutam oxaloacet transaminas complet blood count show anemia hematocrit microcyt mean corpuscular volum urinalysi show posit nitrit white blood cell neg bacteria radiolog chest ray show stabl appear lung liver normal size evid biliari dilat comput xxunk scan reveal diffus thicken stomach wall involv greater lesser curvatur well antrum bowel wall thicken extend first second portion duodenum addit diffus mesenter portal retroperiton bulki lymphadenopathi soft tissu densiti involv porta xxunk diffus xxunk within mesenteri mild intrahepat ductal dilat admiss patient year old gentleman progress supranuclear palsi present painless jaundic concern abdomin ct scan find patient receiv biopsi stomach line june read poorli differenti adenocarcinoma xxunk ring cell type focal intestin xxunk read heaonboburg linpack grant medic center xxunk point oncolog consult obtain diseas carri morbid prognosi given patient apo poor function statu baselin famili meet xxunk wife oncolog personnel palli care physician well primari care team xxunk xxunk freierm decid make patient comfort meet mean receiv chemotherapi type includ palli chemotherapi also gastroenterolog consult recommend stent placement focal stenosi could interven upon meet made resuscit intub discharg hend geadcoastcar hospit emphasi entir patient apo comfort antiemet need pain control need nutrit comfort addit medic care patient want readmit medic facil medic discharg prescrib xxunk hospit current pend time dictat ad discharg summari xxunk hend geadcoastcar hospit question concern patient plea feel free contact doll grendbl pager i d doll bridg electron sign doll bridg doll bridg xxunk doll bridg,xxbos tgcho discharg summari unsign di unsign right middl cerebr arteri stroke secondari left ventricular thrombu embol secondari recent anterolater myocardi infarct exact date undetermin coli urinari tract infect diagnos hypertens left ventricular hypertrophi coronari arteri diseas angina pectori recent myocardi infarct hyperlipidemia left extra capsular cataract extract right intraocular len recent magnet reson imag studi mra echocardiogram computer tomographi scan brain patient year old right hand domin hispan femal admit new onset left hemiparesi neglect histori xxunk son answer xxunk sever time said noth el hung attempt call anoth phone time found line xxunk final open door thought left foot drag mild left facial droop slur speech brought emerg room note suffer increas angina pectori use sublingu nitroglycerin tablet per day last seen cardiologist dr three week prior admiss time mark hypertens angina pectori xxunk come hospit refus intervent right extra capsular cataract extract intraocular len placement past histori coronari arteri diseas prior right eye surgeri subendocardi ischem chang electrocardiogram atyp chest pain eight year exercis toler test thallium accord modifi bruce protocol stop secondari stage hypertens respons chest pain reliev nitrat associ inferoap ischem st depress left ventricl dilat time unfortun left medic advic defer eye surgeri addit hyperlipidemia xxunk cholesterol hdl ldl procardia xl day atenolol day xxunk tablet day sublingu nitroglycerin prn mevacor physic examin blood pressur pul beat per minut left cheek abras probabl fallen carotid without bruit chest examin signific addit left fourth sound rest examin within normal limit examin howev demonstr eye close arous voic scan right field left would turn loud nois voic pain left orient correct date hospit attent much easili distract comprehend two three stage command pauciti spontan speech mild dysarthria name repetit found intact xxunk poor left side neglect xxunk line right midlin xxunk name xxunk time recogn left hand describ problem decreas sensat left arm xxunk arm demonstr decreas blink threat left pupil owe right implant den left cataract right pupil ovoid reactiv left round reactiv millimet fundus seen left normal xxunk present left absent right right gaze prefer full oculocephal full xxunk ocular reflex xxunk mild reduct sensat side face left cornea mild left facial weak palat midlin decreas gag tongu midlin weak left side greater arm leg face left arm pronat drift le three second motor xxunk decreas tone left upper extrem increas tone left lower extrem spontan left lower extrem local deep pain left side deep pain bilater local right withdraw purpos attend left side examin deep tendon reflex throughout knee ankl jerk left side tripl xxunk stimul admiss sodium potassium chlorid bicarbon bun creatinin glucos white blood count hematocrit platelet count prothrombin time partial thromboplastin time first cpk chest ray demonstr earli interstiti edema head computer tomographi scan demonstr atrophi xxunk cortex earli high right pariet convex hemorrhag increas intens vessel electrocardiogram demonstr beat per minut sinu left ventricular hypertrophi st depress wave invers anterolater lead avf patient year old femal unstabl angina pectori associ electrocardiogram chang new right pariet stroke syndrom sudden onset might well suffer xxunk embol thrombu serial cardiac enzym detect recent myocardi infarct echocardiogram demonstr segment left ventricular dysfunct involv left ventricular apex associ increas echo densiti apex possibl repres organ thrombu estim eject fraction thicken multipl aortic leaflet stenosi calcif posterior mitral annulu mild mitral regurgit doppler holter monitor demonstr basic sinu rhythm frequent ventricular prematur contract infrequ supraventricular ectop occasion short run longest nine beat rate beat per minut persist st depress throughout carotid non invas studi demonstr mild right intern carotid arteri stenosi bilater extern carotid arteri stenos right greater left sever left intern carotid arteri stenosi well xxunk flow left ophthalm arteri repeat chest ray demonstr resolut pulmonari edema follow diuret magnet reson imag studi brain demonstr acut right middl cerebr arteri infarct attenu distal segment pauciti vascular flow void within right sylvian fissur multipl lacun relat hypertens present find confirm mra xxunk xxunk hospit cours smooth steadi improv left hemineglect syndrom increas interact team particular son around increas xxunk first five day nourish tube feed convert speech patholog evalu type ii dysphagia diet eat close supervis necessari encourag minim fluid intak one liter per day investig includ liver function test normal urinari cathet insert owe urinari incontin fecal incontin repeat urin cultur clear pan sensit coli urinari tract infect document associ peripher leukocytosi fever treat bactrim night prior discharg brief episod two minut central chest pain like usual angina pectori accord son resolv immedi sublingu nitrat associ electrocardiogram chang good night prior transfer prior transfer left hemiparesi increas movement left upper extrem abl sit littl support trunk abl transfer chair patient eat dysphagia diet hemineglect syndrom improv consider patient rehabilit villtionnca hospit multivitamin tablet po vitamin mg po colac mg po metoprolol mg po furosemid mg po day milk magnesia cc qh prn isordil mg po hold systol blood pressur le warfarin mg po qh last dose last night mg adjust accord inr aim sucralf gram po bactrim doubl strength one tablet po seven day nitroglycerin mg sublingu prn lactulos mg prn dysphagia diet supervis requir speech occup therapi physic therapi follow dr neurolog clinic follow cardiolog clinic dr new york telephon dr du xxunk hospit chang medic made refer qo bmot dr len fyfejescdoyl dr du xxunk na xxunk gener hospit dr cori xxunk dr xxunk xxunk dr aa xxunk stat\n",
       "y: CategoryList\n",
       "1,0,0,0,1\n",
       "Path: .;\n",
       "\n",
       "Valid: LabelList (256 items)\n",
       "x: TextList\n",
       "xxbos surgeri patient record known allergi drug alter mental statu diaphoresi abdomin pain lap convert open cholecystectomi year old xxunk speak femal present emerg depart famili xxunk state found home alter mental statu diaphoresi diabet mental statu improv xxunk cannula oxygen appli time local right upper quadrant pain develop leukocytosi xxunk dm insulin htn gerd pvd xxunk arthriti osteoporosi anemia cholelithiasi left humer fractur cataract surgeri uterin myomectomi distant tobacco drink often includ xxunk walk without cane train engin xxunk new xxunk brother nephew daughter xxunk near deni cad xxunk xxunk gallop xxunk sign right upper quadrant tender nondistend rebound decreas babinski gb distend gallbladd impact cm gallston focal wall thicken posit xxunk stephen sign find consist acut cholecyst right renal cyst lower pole cyst unchang prior exam upper pole xxunk cyst previous seen xxunk ercp report success remov cbd stone placement plastic biliari stent confirm cystic duct leak xxunk admit due alter mental statu acut right upper quadrant abdomin pain gallbladd xxunk sound reveal distend cm non mobil stone neck hd monitor close cmed taken lap convert open cholecystectomi toler procedur well see op report detail extub recov well pacu remain npo iv fluid foley cathet dilaudid iv pain control unasyn antibiot coverag return cmed monitor note low urin output time respond well fluid bolus pod transfer cc recoveri remain afebril given ice xxunk physic therapi consult strength mobil pod pain somewhat uncontrol place dilaudid pca fair effect urin output remain adequ monitor telemetri mild tachycardia reciev iv beta blocker ambul assist pod advanc sip clear foley cathet discontinu pod biliou drainag note jp worsen abdomin pain exam held npo taken ercp sphincterotomi perform biliari stent place toler procedur well return cc post procedur jp remain intact xxunk drainag pod difficulti void pt straight cath bladder scan obtain reveal cc urin pod continu intermitt complaint urinari retent howev abl void renal function remain normal requir straight catheter advanc clear liquid without nausea vomit pain well control tylenol home regimen lantu resum elev blood glucos pod diet advanc regular requir xxunk hard stool rectum initi bowel regimen incid diarrhea constip pod discharg rehab stabl condit appropri follow appoint recommend well prescript return week remov biliari stent insulin slide scale insulin sc slide scale regular glucos insulin dose mg xxunk amp mg xxunk unit mg xxunk unit mg xxunk unit mg xxunk unit mg xxunk unit mg xxunk unit mg xxunk unit mg xxunk unit mg xxunk unit mg xxunk unit mg xxunk unit mg xxunk notifi lantu unit lantu insulin breakfast insulin slide scale insulin sc slide scale regular glucos insulin dose mg xxunk amp mg xxunk unit mg xxunk unit mg xxunk unit mg xxunk unit mg xxunk unit mg xxunk unit mg xxunk unit mg xxunk unit mg xxunk unit mg xxunk unit mg xxunk unit mg xxunk notifi unit lantu insulin breakfast extend care new england sinai hospit rehab center xxunk acut cholecyst gangren cholecyst perfor good plea call surgeon develop chest pain short breath fever greater foul smell color drainag incis red swell sever abdomin pain distent persist nausea vomit inabl eat drink symptom concern tub bath swim may shower clear drainag incis cover dri dress leav white strip incis place allow fall take stool soften colac mg twice daili need constip given pain medic may make drowsi drive take pain medicin plea call schedul appoint see dr lewi week contact gastrointestin doctor pat xxunk remov biliari stent week xxunk xxunk md end report,xxbos neonatolog patient week gestat femal triplet number two deliv cesarean section due progress preterm labor triplet gestat mother year old gravida para mother xxunk xxunk xxunk xxunk prenat screen posit antibodi neg rpr nonreact hepat surfac antigen neg reportedli gb neg rubella immun pregnanc complic gestat diabet mellitu possibl preterm labor mother present abdomin discomfort vagin pressur week time admit receiv full cours betamethason week remain hous deliveri mother present day deliveri preterm labor cervic dilat therefor deliv repeat cesarean section triplet requir blow oxygen routin care deliveri room apgar one minut five minut infant demonstr mild increas work breath deliveri room infant transport neonat intens care unit facial cpap birth weight gram th percentil head circumfer cm th percentil length cm th percentil nondysmorph overal appear consist gestat age anterior fontanel soft open flat red reflex present bilater palat intact intermitt grunt moder intercost retract diminish air xxunk regular rate rhythm without murmur femor pul abdomen benign hepatosplenomegali mass extern femal genitalia normal back extrem stabl hip appropri tone skin pink fair perfus admiss infant requir cpap cm water oxygen initi capillari blood ga ph co infant intub day life two increas respiratori distress receiv one dose xxunk infant extub day life four cpap transit room air day life six infant remain room air throughout hospit caffein citrat start day life six discontinu day life last apnea bradycardia infant remain hemodynam stabl throughout hospit murmur heart rate mean blood pressur infant initi noth mouth receiv cc per kilogram per day intraven infant start enter feed day life four advanc full volum feed cc per kilogram per day day life seven feed advanc infant given parenter nutrit xxunk infant toler feed advanc without difficulti infant advanc maximum calor densiti breast milk prematur enfamil calori per ounc xxunk day life infant current breast milk enfamil calori per ounc po minimum cc per kilogram per day recent weight head circumfer cm length cm recent electrolyt day life five sodium chlorid potassium tco day life calcium phosphoru alkalin phosphatas infant start doubl phototherapi day life two maximum bilirubin level direct infant decreas singl phototherapi phototherapi discontinu day life six rebound bilirubin level day life seven direct infant receiv blood transfus hospit recent hematocrit day life two cbc admiss white blood cell count hematocrit platelet neutrophil band repeat cbc day life two show white blood cell count platelet neutrophil band repeat platelet count day life three infant receiv hour ampicillin gentamicin rule sepsi blood cultur remain neg date infant issu sepsi hospit head ultrasound day life seven show intraventricular hemorrhag repeat head ultrasound day life show slight increas xxunk xxunk xxunk may repres tini bilater xxunk xxunk hemorrhag periventricular leukomalacia repeat head ultrasound recommend one month normal neurolog examin sensori hear screen perform autom auditori brain stem respons infant pas ear ophthalmolog eye examin recent reveal xxunk retin vessel xxunk yet follow examin schedul week xxunk dr xxunk franklin parent involv triplet number one still neonat intens care unit triplet number three home famili also year old sibl stabl room air home parent dr xxunk xxunk phone number fax feed breast milk enfamil calori per ounc breast milk mix calori per ounc enfamil powder minimum cc per kilogram per day po ferrou sulfat mg per ml mg per kilogram per day car seat posit screen pas hear screen pas state newborn screen sent abnorm result report immun infant receiv hepat vaccin immun recommend synagi rsv prophylaxi consid octob april infant meet follow three criterion born le week born week two three follow day care rsv season smoker household xxunk diseas airway abnorm school age sibl chronic lung diseas influenza immun recommend annual fall infant reach six month age age first month child life immun influenza recommend household contact home caregiv primari pediatrician ophthalmolog dr wilson visit nurs associ earli intervent program prematur triplet number two statu post respiratori distress statu post rule sepsi rule statu post apnea prematur statu post xxunk hyperbilirubinemia richard xxunk medquist end report,xxbos sc endometri carcinoma sign di sign endometri cancer endometri cancer total abdomin hysterectomi bilater salpingo oophorectomi year old present dr xxunk apo clinic abnorm pap smear follow endometri biopsi suggest grade endometri cancer patient past year men thought becom menopaus began spot sever month constant brown discharg pap smear obtain primari care physician show endometri cell thu refer gynecologist endometri biopsi endometri biopsi show grade endometri cancer decis made proceed surgic manag find migrain penicillin two cesarean section menarch regular men age becom irregular sever year first child age one normal spontan vagin deliveri two cesarean section patient prior smoker quit marri xxunk indocin celebrex verapamil migrain mother colon polyp matern xxunk matern aunt colon cancer pas away diseas addit histori breast ovarian uterin cancer famili well develop well nourish femal foot inch pound mass clear auscult regular rate rhythm soft mildli obes pfannenstiel scar visual normal xxunk normal appear cervix small mobil uteru addit mass nodul appreci exam patient admit day surgeri underw tah bso uncompl detail procedur found oper dictat short frozen patholog uteru show grade cancer invas xxunk xxunk dissect done time patient toler procedur extrem well well postop cours postop day eat ambul void decid discharg home time percocet colac follow appoint dr xxunk four week arl xxunk xxunk xxunk xxunk ry xxunk index xxunk,xxbos ct cmed csru mr xxunk year old gentleman initi present hematemesi hemoptysi work found left lower lobe mass previous underw bronchoscopi wash show neg malign cell show atyp bronchial epitheli cell like reactiv rectal fissur lumpectomi left breast nodul knee surgeri hand surgeri patient known drug allergi patient home medic review system essenti neg admiss show gentleman acut distress afebril chest clear auscult bilater heart regular rate rhythm abdomen benign mass extrem well perfus warm patient taken oper room day admiss underw left bronchoscopi lower lobectomi left side oper subsequ complic postop bleed patient taken back oper room repair left pulmonari arteri perform patient transfer csru intub stabl condit vascular surgeri servic also consult oper patient receiv unit pack red blood cell four unit fresh frozen plasma one unit platelet estim blood loss cc patient remain stabl floor subsequ monitor hematocrit within normal stabl rang success extub hypertens transfer floor stabl condit pain servic manag epidur good effect toler regular diet make adequ amount urin recoveri essenti unremark epidur success discontinu discharg home instruct follow dr xxunk offic within next one two week discharg home pain medic percocet stabl home without servic left lung mass statu post resect xxunk xxunk medquist end report,xxbos fih coronari arteri diseas unsign di unsign xxunk ni coronari arteri diseas fail coronari arteri bypass graft prior myocardi infarct hypertens elev cholesterol renal insuffici congest heart failur dual chamber pacemak gener chang xxunk xxunk dr bilater heart catheter left ventriculographi bilater coronari angiographi bypass graft angiographi intern mammari arteri angiographi aspirin mg po lipitor mg po toprol xl mg po lasix mg mg potassium chlorid meq po xxunk xxunk imdur mg po vitamin intern unit prilosec mg po xxunk year old patient dr brendniungand asilbekot xxunk refer progress angina rheumatoid fever child heart murmur note test use antibiot prophylaxi sinc xxunk coronari arteri bypass graft surgeri dr xxunk xxunk xxunk commun hospit well exert angina posit stress test found three four graft occlud octob dr bypass oper left intern mammari arteri graft left anterior descend saphen vein graft obtus margin saphen vein graft obtus margin ddd pacemak complet heart block exert angina time novemb small myocardi infarct transfer xxunk hospit cardiac catheter show tight left intern mammari arteri left anterior descend stenosi high grade saphen vein graft obtus margin stenosi patent obtus margin graft normal left ventricular function apic tip akinesi sinc time continu exert left chest burn radiat left neck arm reliev nitroglycerin turn surgeri time percutan translumin coronari angioplasti symptom increas particularli cardiac rehabilit refer may exercis toler test heart rate went blood pressur fell systol diffus ischem st segment chang increas lung uptak revers anterior later defect syncop cardiac risk factor hypertens elev cholesterol strong famili histori coronari arteri diseas mother sister brother die myocardi infarct remot cigarett smoker also histori lactos intoler peptic ulcer diseas remot gastrointestin bleed multipl ectop pregnanc mid term xxunk total abdomin hysterectomi widow year retir year xxunk live alon son nertland nearbi work em xxunk medic center xxunk live ohio healthi appear femal foot pound blood pressur pul regular neck vein distend respiratori rate bruit lung clear systol eject murmur abdomen benign peripher pul intact neurolog examin non focal admiss includ electrocardiogram show ddd pace hematocrit percent white blood cell count pt ptt normal sodium potassium chlorid carbon dioxid bun creatinin patient admit cardiac catheter laboratori pulmonari wedg pressur right atrial pressur pulmonari arteri pressur left ventricular contract show akinesi anterior wall dyskinesi apex preserv inferior contract basal contract nativ right left anterior descend vessel occlud obtus margin branch saphen vein high diagon high obtus margin occlud left intern mammari arteri left anterior descend also occlud saphen vein graft second obtus margin open signific stenosi xxunk lesion obtus margin well sever distal lesion obtus margin fed posterior descend arteri consid culprit lesion consid high risk angioplasti sever diseas graft addit note saphen vein harvest thigh left intern mammari arteri also xxunk also note failur sen atrial lead would sen atrial contract fire occasion led xxunk fire intermitt wave amplitud could total sen patient admit manag coronari arteri diseas evalu pacemak note becam symptomat beta blocker beta blocker signific pacemak failur pacemak set vvi mode sen appropri sinu rhythm time pacemak sinu rhythm without beta blocker signific angina carotid non invas test unremark situat review dr nist graft felt patient coronari arteri bypass graft candid lack xxunk presenc larg anterior myocardi infarct reason decid maxim beta blocker nitrat situat review dr pacemak servic august local anesthesia right xxunk region explor lead xxunk pul gener chang xxunk unit sensit could adjust mm permit appropri atrial sen noth xxunk prior gener noth xxunk lead need unit could sensit atrial mode toler well medic resum ambul without difficulti discharg home follow medic coronari arteri diseas follow two fail bypass graft procedur dr brendniungand asilbekot bi xxunk xxunk graft xxunk xxunk xxunk graft xxunk xxunk\n",
       "y: CategoryList\n",
       "0,0,0,0,1\n",
       "Path: .;\n",
       "\n",
       "Test: None, model=SequentialRNN(\n",
       "  (0): MultiBatchEncoder(\n",
       "    (module): AWD_LSTM(\n",
       "      (encoder): Embedding(6160, 400, padding_idx=1)\n",
       "      (encoder_dp): EmbeddingDropout(\n",
       "        (emb): Embedding(6160, 400, padding_idx=1)\n",
       "      )\n",
       "      (rnns): ModuleList(\n",
       "        (0): WeightDropout(\n",
       "          (module): LSTM(400, 1152, batch_first=True)\n",
       "        )\n",
       "        (1): WeightDropout(\n",
       "          (module): LSTM(1152, 1152, batch_first=True)\n",
       "        )\n",
       "        (2): WeightDropout(\n",
       "          (module): LSTM(1152, 400, batch_first=True)\n",
       "        )\n",
       "      )\n",
       "      (input_dp): RNNDropout()\n",
       "      (hidden_dps): ModuleList(\n",
       "        (0): RNNDropout()\n",
       "        (1): RNNDropout()\n",
       "        (2): RNNDropout()\n",
       "      )\n",
       "    )\n",
       "  )\n",
       "  (1): PoolingLinearClassifier(\n",
       "    (layers): Sequential(\n",
       "      (0): BatchNorm1d(1200, eps=1e-05, momentum=0.1, affine=True, track_running_stats=True)\n",
       "      (1): Dropout(p=0.2, inplace=False)\n",
       "      (2): Linear(in_features=1200, out_features=50, bias=True)\n",
       "      (3): ReLU(inplace=True)\n",
       "      (4): BatchNorm1d(50, eps=1e-05, momentum=0.1, affine=True, track_running_stats=True)\n",
       "      (5): Dropout(p=0.1, inplace=False)\n",
       "      (6): Linear(in_features=50, out_features=2, bias=True)\n",
       "    )\n",
       "  )\n",
       "), opt_func=functools.partial(<class 'torch.optim.adam.Adam'>, betas=(0.9, 0.99)), loss_func=FlattenedLoss of CrossEntropyLoss(), metrics=[<function accuracy at 0x7f03fa2b4f28>], true_wd=True, bn_wd=True, wd=0.01, train_bn=True, path=PosixPath('.'), model_dir='models', callback_fns=[functools.partial(<class 'fastai.basic_train.Recorder'>, add_time=True, silent=False)], callbacks=[...], layer_groups=[Sequential(\n",
       "  (0): Embedding(6160, 400, padding_idx=1)\n",
       "  (1): EmbeddingDropout(\n",
       "    (emb): Embedding(6160, 400, padding_idx=1)\n",
       "  )\n",
       "), Sequential(\n",
       "  (0): WeightDropout(\n",
       "    (module): LSTM(400, 1152, batch_first=True)\n",
       "  )\n",
       "  (1): RNNDropout()\n",
       "), Sequential(\n",
       "  (0): WeightDropout(\n",
       "    (module): LSTM(1152, 1152, batch_first=True)\n",
       "  )\n",
       "  (1): RNNDropout()\n",
       "), Sequential(\n",
       "  (0): WeightDropout(\n",
       "    (module): LSTM(1152, 400, batch_first=True)\n",
       "  )\n",
       "  (1): RNNDropout()\n",
       "), Sequential(\n",
       "  (0): PoolingLinearClassifier(\n",
       "    (layers): Sequential(\n",
       "      (0): BatchNorm1d(1200, eps=1e-05, momentum=0.1, affine=True, track_running_stats=True)\n",
       "      (1): Dropout(p=0.2, inplace=False)\n",
       "      (2): Linear(in_features=1200, out_features=50, bias=True)\n",
       "      (3): ReLU(inplace=True)\n",
       "      (4): BatchNorm1d(50, eps=1e-05, momentum=0.1, affine=True, track_running_stats=True)\n",
       "      (5): Dropout(p=0.1, inplace=False)\n",
       "      (6): Linear(in_features=50, out_features=2, bias=True)\n",
       "    )\n",
       "  )\n",
       ")], add_time=True, silent=False)\n",
       "alpha: 2.0\n",
       "beta: 1.0], layer_groups=[Sequential(\n",
       "  (0): Embedding(6160, 400, padding_idx=1)\n",
       "  (1): EmbeddingDropout(\n",
       "    (emb): Embedding(6160, 400, padding_idx=1)\n",
       "  )\n",
       "), Sequential(\n",
       "  (0): WeightDropout(\n",
       "    (module): LSTM(400, 1152, batch_first=True)\n",
       "  )\n",
       "  (1): RNNDropout()\n",
       "), Sequential(\n",
       "  (0): WeightDropout(\n",
       "    (module): LSTM(1152, 1152, batch_first=True)\n",
       "  )\n",
       "  (1): RNNDropout()\n",
       "), Sequential(\n",
       "  (0): WeightDropout(\n",
       "    (module): LSTM(1152, 400, batch_first=True)\n",
       "  )\n",
       "  (1): RNNDropout()\n",
       "), Sequential(\n",
       "  (0): PoolingLinearClassifier(\n",
       "    (layers): Sequential(\n",
       "      (0): BatchNorm1d(1200, eps=1e-05, momentum=0.1, affine=True, track_running_stats=True)\n",
       "      (1): Dropout(p=0.2, inplace=False)\n",
       "      (2): Linear(in_features=1200, out_features=50, bias=True)\n",
       "      (3): ReLU(inplace=True)\n",
       "      (4): BatchNorm1d(50, eps=1e-05, momentum=0.1, affine=True, track_running_stats=True)\n",
       "      (5): Dropout(p=0.1, inplace=False)\n",
       "      (6): Linear(in_features=50, out_features=2, bias=True)\n",
       "    )\n",
       "  )\n",
       ")], add_time=True, silent=False)"
      ]
     },
     "execution_count": 34,
     "metadata": {
      "tags": []
     },
     "output_type": "execute_result"
    }
   ],
   "source": [
    "classifier = text_classifier_learner(data_class, AWD_LSTM, drop_mult=0.5)\n",
    "classifier.load_encoder('ft_encoder')"
   ]
  },
  {
   "cell_type": "code",
   "execution_count": 35,
   "metadata": {
    "colab": {
     "base_uri": "https://localhost:8080/",
     "height": 35
    },
    "colab_type": "code",
    "id": "cQOeuI8j_q1m",
    "outputId": "b5b31741-bccf-4308-f434-cfef73bd54dc"
   },
   "outputs": [
    {
     "data": {
      "text/html": [],
      "text/plain": [
       "<IPython.core.display.HTML object>"
      ]
     },
     "metadata": {
      "tags": []
     },
     "output_type": "display_data"
    },
    {
     "name": "stdout",
     "output_type": "stream",
     "text": [
      "LR Finder is complete, type {learner_name}.recorder.plot() to see the graph.\n"
     ]
    }
   ],
   "source": [
    "classifier.lr_find()"
   ]
  },
  {
   "cell_type": "code",
   "execution_count": 36,
   "metadata": {
    "colab": {
     "base_uri": "https://localhost:8080/",
     "height": 279
    },
    "colab_type": "code",
    "id": "O_Bu6Iww_-uM",
    "outputId": "22f6a14d-4b4c-4ff4-8cd0-e0a725b476de"
   },
   "outputs": [
    {
     "data": {
      "image/png": "[encoded data removed]",
      "text/plain": [
       "<Figure size 432x288 with 1 Axes>"
      ]
     },
     "metadata": {
      "tags": []
     },
     "output_type": "display_data"
    }
   ],
   "source": [
    "classifier.recorder.plot()"
   ]
  },
  {
   "cell_type": "code",
   "execution_count": 37,
   "metadata": {
    "colab": {
     "base_uri": "https://localhost:8080/",
     "height": 78
    },
    "colab_type": "code",
    "id": "omjBw17kCB1p",
    "outputId": "799e987f-be35-4fed-e885-425f39610068"
   },
   "outputs": [
    {
     "data": {
      "text/html": [
       "<table border=\"1\" class=\"dataframe\">\n",
       "  <thead>\n",
       "    <tr style=\"text-align: left;\">\n",
       "      <th>epoch</th>\n",
       "      <th>train_loss</th>\n",
       "      <th>valid_loss</th>\n",
       "      <th>accuracy</th>\n",
       "      <th>time</th>\n",
       "    </tr>\n",
       "  </thead>\n",
       "  <tbody>\n",
       "    <tr>\n",
       "      <td>0</td>\n",
       "      <td>0.625809</td>\n",
       "      <td>0.558119</td>\n",
       "      <td>0.785156</td>\n",
       "      <td>00:16</td>\n",
       "    </tr>\n",
       "  </tbody>\n",
       "</table>"
      ],
      "text/plain": [
       "<IPython.core.display.HTML object>"
      ]
     },
     "metadata": {
      "tags": []
     },
     "output_type": "display_data"
    }
   ],
   "source": [
    "classifier.fit_one_cycle(1, 1e-2)"
   ]
  },
  {
   "cell_type": "code",
   "execution_count": 38,
   "metadata": {
    "colab": {
     "base_uri": "https://localhost:8080/",
     "height": 78
    },
    "colab_type": "code",
    "id": "y1kiWhG4DVSB",
    "outputId": "6927bf46-9f0f-454e-c8b2-5e2d5158eefc"
   },
   "outputs": [
    {
     "data": {
      "text/html": [
       "<table border=\"1\" class=\"dataframe\">\n",
       "  <thead>\n",
       "    <tr style=\"text-align: left;\">\n",
       "      <th>epoch</th>\n",
       "      <th>train_loss</th>\n",
       "      <th>valid_loss</th>\n",
       "      <th>accuracy</th>\n",
       "      <th>time</th>\n",
       "    </tr>\n",
       "  </thead>\n",
       "  <tbody>\n",
       "    <tr>\n",
       "      <td>0</td>\n",
       "      <td>0.516465</td>\n",
       "      <td>0.510260</td>\n",
       "      <td>0.796875</td>\n",
       "      <td>00:15</td>\n",
       "    </tr>\n",
       "  </tbody>\n",
       "</table>"
      ],
      "text/plain": [
       "<IPython.core.display.HTML object>"
      ]
     },
     "metadata": {
      "tags": []
     },
     "output_type": "display_data"
    }
   ],
   "source": [
    "classifier.fit_one_cycle(1, 5e-3)"
   ]
  },
  {
   "cell_type": "code",
   "execution_count": 39,
   "metadata": {
    "colab": {
     "base_uri": "https://localhost:8080/",
     "height": 78
    },
    "colab_type": "code",
    "id": "ynsXPYV0EDPp",
    "outputId": "f2604922-4d8a-4a73-d7e6-3bc9a91366a7"
   },
   "outputs": [
    {
     "data": {
      "text/html": [
       "<table border=\"1\" class=\"dataframe\">\n",
       "  <thead>\n",
       "    <tr style=\"text-align: left;\">\n",
       "      <th>epoch</th>\n",
       "      <th>train_loss</th>\n",
       "      <th>valid_loss</th>\n",
       "      <th>accuracy</th>\n",
       "      <th>time</th>\n",
       "    </tr>\n",
       "  </thead>\n",
       "  <tbody>\n",
       "    <tr>\n",
       "      <td>0</td>\n",
       "      <td>0.483024</td>\n",
       "      <td>0.391764</td>\n",
       "      <td>0.882812</td>\n",
       "      <td>00:18</td>\n",
       "    </tr>\n",
       "  </tbody>\n",
       "</table>"
      ],
      "text/plain": [
       "<IPython.core.display.HTML object>"
      ]
     },
     "metadata": {
      "tags": []
     },
     "output_type": "display_data"
    }
   ],
   "source": [
    "classifier.freeze_to(-2)\n",
    "classifier.fit_one_cycle(1, slice(5e-3/2., 5e-3))"
   ]
  },
  {
   "cell_type": "code",
   "execution_count": 40,
   "metadata": {
    "colab": {
     "base_uri": "https://localhost:8080/",
     "height": 78
    },
    "colab_type": "code",
    "id": "dohaGxsT0kqU",
    "outputId": "1486b030-96ef-4eef-82aa-1bc91d510fcb"
   },
   "outputs": [
    {
     "data": {
      "text/html": [
       "<table border=\"1\" class=\"dataframe\">\n",
       "  <thead>\n",
       "    <tr style=\"text-align: left;\">\n",
       "      <th>epoch</th>\n",
       "      <th>train_loss</th>\n",
       "      <th>valid_loss</th>\n",
       "      <th>accuracy</th>\n",
       "      <th>time</th>\n",
       "    </tr>\n",
       "  </thead>\n",
       "  <tbody>\n",
       "    <tr>\n",
       "      <td>0</td>\n",
       "      <td>0.386291</td>\n",
       "      <td>0.284900</td>\n",
       "      <td>0.910156</td>\n",
       "      <td>00:23</td>\n",
       "    </tr>\n",
       "  </tbody>\n",
       "</table>"
      ],
      "text/plain": [
       "<IPython.core.display.HTML object>"
      ]
     },
     "metadata": {
      "tags": []
     },
     "output_type": "display_data"
    }
   ],
   "source": [
    "classifier.freeze_to(-3)\n",
    "classifier.fit_one_cycle(1, slice(5e-3/2., 5e-3))"
   ]
  },
  {
   "cell_type": "code",
   "execution_count": 41,
   "metadata": {
    "colab": {
     "base_uri": "https://localhost:8080/",
     "height": 78
    },
    "colab_type": "code",
    "id": "jGIB9YjfEWvE",
    "outputId": "b2373441-3b3d-4a09-85d2-2b712ea04b31"
   },
   "outputs": [
    {
     "data": {
      "text/html": [
       "<table border=\"1\" class=\"dataframe\">\n",
       "  <thead>\n",
       "    <tr style=\"text-align: left;\">\n",
       "      <th>epoch</th>\n",
       "      <th>train_loss</th>\n",
       "      <th>valid_loss</th>\n",
       "      <th>accuracy</th>\n",
       "      <th>time</th>\n",
       "    </tr>\n",
       "  </thead>\n",
       "  <tbody>\n",
       "    <tr>\n",
       "      <td>0</td>\n",
       "      <td>0.322610</td>\n",
       "      <td>0.298717</td>\n",
       "      <td>0.894531</td>\n",
       "      <td>00:33</td>\n",
       "    </tr>\n",
       "  </tbody>\n",
       "</table>"
      ],
      "text/plain": [
       "<IPython.core.display.HTML object>"
      ]
     },
     "metadata": {
      "tags": []
     },
     "output_type": "display_data"
    }
   ],
   "source": [
    "classifier.unfreeze()\n",
    "classifier.fit_one_cycle(1, slice(1e-3/100, 1e-3),moms = (0.8,0.7))"
   ]
  },
  {
   "cell_type": "code",
   "execution_count": 0,
   "metadata": {
    "colab": {},
    "colab_type": "code",
    "id": "xZM__CBYFRtA"
   },
   "outputs": [],
   "source": [
    "from fastai.vision import *"
   ]
  },
  {
   "cell_type": "code",
   "execution_count": 0,
   "metadata": {
    "colab": {},
    "colab_type": "code",
    "id": "OzLVXFJLHFl9"
   },
   "outputs": [],
   "source": [
    "preds, y, losses = classifier.get_preds(with_loss = True)\n"
   ]
  },
  {
   "cell_type": "code",
   "execution_count": 0,
   "metadata": {
    "colab": {},
    "colab_type": "code",
    "id": "HIrYdoG2GkkO"
   },
   "outputs": [],
   "source": [
    "interp =  ClassificationInterpretation(classifier, preds, y, losses)"
   ]
  },
  {
   "cell_type": "code",
   "execution_count": 45,
   "metadata": {
    "colab": {
     "base_uri": "https://localhost:8080/",
     "height": 311
    },
    "colab_type": "code",
    "id": "6gjpNo02xrty",
    "outputId": "cba9ab7b-7973-40f2-e57b-11e42b179008"
   },
   "outputs": [
    {
     "data": {
      "image/png": "[encoded data removed]",
      "text/plain": [
       "<Figure size 432x288 with 1 Axes>"
      ]
     },
     "metadata": {
      "tags": []
     },
     "output_type": "display_data"
    }
   ],
   "source": [
    "interp.plot_confusion_matrix()"
   ]
  },
  {
   "cell_type": "code",
   "execution_count": 0,
   "metadata": {
    "colab": {},
    "colab_type": "code",
    "id": "Tcrn4LcqBgft"
   },
   "outputs": [],
   "source": []
  }
 ],
 "metadata": {
  "accelerator": "GPU",
  "colab": {
   "collapsed_sections": [],
   "name": "fastai_prap_Jill2.ipynb",
   "provenance": []
  },
  "kernelspec": {
   "display_name": "Python 3",
   "language": "python",
   "name": "python3"
  },
  "language_info": {
   "codemirror_mode": {
    "name": "ipython",
    "version": 3
   },
   "file_extension": ".py",
   "mimetype": "text/x-python",
   "name": "python",
   "nbconvert_exporter": "python",
   "pygments_lexer": "ipython3",
   "version": "3.7.4"
  }
 },
 "nbformat": 4,
 "nbformat_minor": 1
}
