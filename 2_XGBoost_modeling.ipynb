{
 "cells": [
  {
   "cell_type": "code",
   "execution_count": 1,
   "metadata": {},
   "outputs": [
    {
     "name": "stderr",
     "output_type": "stream",
     "text": [
      "/Users/jill/anaconda3/envs/ml/lib/python3.7/site-packages/sklearn/externals/joblib/__init__.py:15: DeprecationWarning: sklearn.externals.joblib is deprecated in 0.21 and will be removed in 0.23. Please import this functionality directly from joblib, which can be installed with: pip install joblib. If this warning is raised when loading pickled models, you may need to re-serialize those models with scikit-learn 0.21+.\n",
      "  warnings.warn(msg, category=DeprecationWarning)\n"
     ]
    }
   ],
   "source": [
    "import re\n",
    "import os\n",
    "import glob\n",
    "import shutil\n",
    "import requests\n",
    "import random\n",
    "import pandas as pd\n",
    "import nltk\n",
    "import xgboost as xgb\n",
    "from sklearn import metrics\n",
    "from sklearn.metrics import accuracy_score\n",
    "from sklearn.metrics import roc_auc_score\n",
    "from sklearn.model_selection import train_test_split\n",
    "import matplotlib.pyplot as plt\n",
    "%matplotlib inline\n",
    "from matplotlib.pylab import rcParams\n",
    "from sklearn.feature_extraction.text import CountVectorizer, TfidfVectorizer\n",
    "from sklearn.externals import joblib\n",
    "from sklearn.metrics import classification_report\n",
    "import seaborn as sns\n",
    "from sklearn.model_selection import cross_validate,StratifiedKFold\n",
    "rcParams['figure.figsize'] = 12, 8"
   ]
  },
  {
   "cell_type": "markdown",
   "metadata": {},
   "source": [
    "# 1. Data set path"
   ]
  },
  {
   "cell_type": "code",
   "execution_count": 2,
   "metadata": {},
   "outputs": [],
   "source": [
    "train_path=\"/Users/jill/Downloads/2019_fall_semester/personal_project/nltk_practice/2010_i2b2_data/training_data/\"\n",
    "test_path=\"/Users/jill/Downloads/2019_fall_semester/personal_project/nltk_practice/2010_i2b2_data/test_data/\"\n",
    "tag_path=\"/Users/jill/Downloads/2019_fall_semester/personal_project/nltk_practice/2010_i2b2_data/annotated_file/\""
   ]
  },
  {
   "cell_type": "code",
   "execution_count": 3,
   "metadata": {},
   "outputs": [],
   "source": [
    "out_data_trainPath=\"/Users/jill/Downloads/2019_fall_semester/personal_project/nltk_practice/out_data/train/\"\n",
    "out_data_validPath=\"/Users/jill/Downloads/2019_fall_semester/personal_project/nltk_practice/out_data/valid/\"\n",
    "out_data_testPath=\"/Users/jill/Downloads/2019_fall_semester/personal_project/nltk_practice/out_data/test/\""
   ]
  },
  {
   "cell_type": "markdown",
   "metadata": {},
   "source": [
    "# 2. Load training and test data"
   ]
  },
  {
   "cell_type": "code",
   "execution_count": 4,
   "metadata": {},
   "outputs": [],
   "source": [
    "training = pd.read_csv(os.path.join(out_data_trainPath,\"train.csv\"),index_col=False)\n",
    "test = pd.read_csv(os.path.join(out_data_testPath,\"test.csv\"), index_col = False)"
   ]
  },
  {
   "cell_type": "markdown",
   "metadata": {},
   "source": [
    "# 3. Bag of WORDS, TF-IDF, Ngram TF-IDF & XGBoost"
   ]
  },
  {
   "cell_type": "markdown",
   "metadata": {},
   "source": [
    "### *a. Feature extraction*"
   ]
  },
  {
   "cell_type": "code",
   "execution_count": 5,
   "metadata": {},
   "outputs": [],
   "source": [
    "def extract_features(train_df, test_df, mode, vocabulary_size):\n",
    "    \"\"\"\n",
    "    Use different mode to create train and test arrays for XGBoost model.\n",
    "    Create vocabulary dictionary to extract important features in the following steps.\n",
    "    Return arrays and vocabulary dictionary.\n",
    "    \"\"\"\n",
    "    if mode == \"BOW\":\n",
    "        bow_vector = CountVectorizer(analyzer='word', token_pattern=r'\\w{1,}', max_features=vocabulary_size)\n",
    "        bow_vector.fit(train_df['clean_text'].unique())\n",
    "        features_train = bow_vector.transform(train_df['clean_text'].values).toarray()\n",
    "        features_test = bow_vector.transform(test_df['clean_text'].values).toarray()\n",
    "        vocab_dic = bow_vector.vocabulary_\n",
    "    \n",
    "    elif mode == \"TFIDF\":\n",
    "        tfidf_vector = TfidfVectorizer(analyzer='word', token_pattern=r'\\w{1,}', max_features=vocabulary_size)\n",
    "        tfidf_vector.fit(train_df['clean_text'].unique())\n",
    "        features_train = tfidf_vector.transform(train_df['clean_text'].values).toarray()\n",
    "        features_test = tfidf_vector.transform(test_df['clean_text'].values).toarray()\n",
    "        vocab_dic = tfidf_vector.vocabulary_\n",
    "        \n",
    "    elif mode == \"Ngram_TFIDF\":\n",
    "        ngramTfidf_vector = TfidfVectorizer(analyzer='word', token_pattern=r'\\w{1,}',\n",
    "                                             ngram_range=(2,5), max_features=vocabulary_size)\n",
    "        ngramTfidf_vector.fit(train_df['clean_text'].unique())\n",
    "        features_train = ngramTfidf_vector.transform(train_df['clean_text'].values).toarray()\n",
    "        features_test = ngramTfidf_vector.transform(test_df['clean_text'].values).toarray()\n",
    "        vocab_dic = ngramTfidf_vector.vocabulary_\n",
    "        \n",
    "    y_train = train_df['CAD'].values\n",
    "    y_test = test_df['CAD'].values\n",
    "    return features_train, y_train, features_test, y_test, vocab_dic"
   ]
  },
  {
   "cell_type": "markdown",
   "metadata": {},
   "source": [
    "### *b. Modeling, prediction and important features*"
   ]
  },
  {
   "cell_type": "code",
   "execution_count": 6,
   "metadata": {},
   "outputs": [],
   "source": [
    "def important_feature(estimator, vocab_dic):\n",
    "    \n",
    "    feat_imp = pd.Series(estimator.get_booster().get_score(importance_type='weight')).sort_values(ascending=False).iloc[:30] \n",
    "    feat_imp.plot(kind='bar', title = \"Important Features\")\n",
    "    plt.ylabel('Feature Importance Score')"
   ]
  },
  {
   "cell_type": "code",
   "execution_count": 7,
   "metadata": {},
   "outputs": [],
   "source": [
    "def model_pred(X_train, y_train, X_test, y_test, vocab_dic):\n",
    "    xgb_model = xgb.XGBClassifier(max_depth=50, n_estimators=80, learning_rate=0.1, \n",
    "                              colsample_bytree=.7, gamma=0, reg_alpha=4, objective='binary:logistic', \n",
    "                              eta=0.3, silent=1, subsample=0.8)\n",
    "    xgb_model.fit(X_train, y_train)\n",
    "    pred_prob_train = xgb_model.predict_proba(X_train)\n",
    "    pred_prob_test = xgb_model.predict_proba(X_test)\n",
    "    \n",
    "    print (\"\\nModel Report: \\n\")\n",
    "    print (\"Auc Train Score: %.4g\" % metrics.roc_auc_score(y_train,pred_prob_train[:,1]))\n",
    "    print (\"Auc Test Score: %f\" % metrics.roc_auc_score(y_test,pred_prob_test[:,1]))\n",
    "    \n",
    "    print (\"Detailed classification report: \\n\")\n",
    "    y_true, y_pred = y_test,xgb_model.predict(X_test)\n",
    "    print ((classification_report(y_true, y_pred)))\n",
    "    important_feature(xgb_model, vocab_dic)"
   ]
  },
  {
   "cell_type": "markdown",
   "metadata": {},
   "source": [
    "### *c. Cross validation*"
   ]
  },
  {
   "cell_type": "code",
   "execution_count": 8,
   "metadata": {},
   "outputs": [],
   "source": [
    "def cv_modeling (X_train, y_train, X_test, y_test):\n",
    "    \n",
    "    xgb_model = xgb.XGBClassifier(max_depth=50, n_estimators=80, learning_rate=0.1, \n",
    "                              colsample_bytree=.7, gamma=0, reg_alpha=4, objective='binary:logistic', \n",
    "                              eta=0.3, silent=1, subsample=0.8)\n",
    "    xgb_model.fit(X_train, y_train)\n",
    "    kfold = StratifiedKFold(n_splits=10, random_state=42)\n",
    "    cv_results = cross_validate(xgb_model, X_train, y_train, cv = kfold, scoring = 'roc_auc',return_train_score=True)\n",
    "    results_df = pd.DataFrame(cv_results)\n",
    "    return results_df"
   ]
  },
  {
   "cell_type": "code",
   "execution_count": 9,
   "metadata": {},
   "outputs": [
    {
     "name": "stdout",
     "output_type": "stream",
     "text": [
      "BOW XGBoost results: \n",
      "\n",
      "\n",
      "Model Report: \n",
      "\n",
      "Auc Train Score: 0.9994\n",
      "Auc Test Score: 0.968180\n",
      "Detailed classification report: \n",
      "\n",
      "              precision    recall  f1-score   support\n",
      "\n",
      "           0       0.96      0.94      0.95       192\n",
      "           1       0.83      0.89      0.86        64\n",
      "\n",
      "    accuracy                           0.93       256\n",
      "   macro avg       0.89      0.91      0.90       256\n",
      "weighted avg       0.93      0.93      0.93       256\n",
      "\n",
      "\n",
      "Word level BOW XGBoost cv results: \n",
      "\n",
      "   fit_time  score_time  test_score  train_score\n",
      "0  3.230972    0.003415    0.994652     0.999784\n",
      "1  3.073998    0.003273    0.983957     0.999245\n",
      "2  3.041014    0.003209    0.949198     0.999497\n",
      "3  3.121131    0.003215    0.977961     0.999534\n",
      "4  2.993982    0.003440    0.936364     0.999574\n",
      "5  3.110835    0.003176    0.939394     0.999184\n",
      "6  3.100877    0.003232    0.954545     0.999752\n",
      "7  3.113711    0.003428    0.972727     0.999610\n",
      "8  3.019749    0.003078    0.975758     0.999539\n",
      "9  3.085350    0.003139    0.996970     0.999681\n"
     ]
    },
    {
     "data": {
      "image/png": "[encoded data removed]",
      "text/plain": [
       "<Figure size 432x288 with 1 Axes>"
      ]
     },
     "metadata": {
      "needs_background": "light"
     },
     "output_type": "display_data"
    }
   ],
   "source": [
    "# BOW & XGBoost\n",
    "X_train, y_train, X_test, y_test, vocab_dic = extract_features(training, test, \"BOW\", 2000)\n",
    "\n",
    "print (\"BOW XGBoost results: \\n\")\n",
    "model_pred(X_train, y_train, X_test, y_test, vocab_dic)\n",
    "bow_cv = cv_modeling (X_train, y_train, X_test, y_test)\n",
    "print (\"\\nWord level BOW XGBoost cv results: \\n\")\n",
    "print (bow_cv)"
   ]
  },
  {
   "cell_type": "code",
   "execution_count": 10,
   "metadata": {},
   "outputs": [
    {
     "name": "stdout",
     "output_type": "stream",
     "text": [
      "Word level TF-IDF XGBoost results: \n",
      "\n",
      "\n",
      "Model Report: \n",
      "\n",
      "Auc Train Score: 0.9999\n",
      "Auc Test Score: 0.966349\n",
      "Detailed classification report: \n",
      "\n",
      "              precision    recall  f1-score   support\n",
      "\n",
      "           0       0.96      0.94      0.95       192\n",
      "           1       0.83      0.89      0.86        64\n",
      "\n",
      "    accuracy                           0.93       256\n",
      "   macro avg       0.89      0.91      0.90       256\n",
      "weighted avg       0.93      0.93      0.93       256\n",
      "\n",
      "\n",
      "Word level TF-IDF XGBoost cv results: \n",
      "\n",
      "   fit_time  score_time  test_score  train_score\n",
      "0  2.914013    0.003624    0.983957     0.999928\n",
      "1  2.959106    0.003178    0.983957     0.999784\n",
      "2  2.903317    0.003361    0.927807     1.000000\n",
      "3  3.008081    0.003308    0.972452     0.999928\n",
      "4  3.072300    0.003299    0.948485     1.000000\n",
      "5  3.279920    0.003872    0.942424     0.999894\n",
      "6  3.426909    0.003634    0.948485     1.000000\n",
      "7  3.233576    0.003399    0.990909     0.999965\n",
      "8  2.908346    0.003214    0.975758     0.999929\n",
      "9  2.965138    0.003335    1.000000     0.999929\n"
     ]
    },
    {
     "data": {
      "image/png": "[encoded data removed]",
      "text/plain": [
       "<Figure size 432x288 with 1 Axes>"
      ]
     },
     "metadata": {
      "needs_background": "light"
     },
     "output_type": "display_data"
    }
   ],
   "source": [
    "X_train, y_train, X_test, y_test, vocab_dic = extract_features(training, test, \"TFIDF\", 2000)\n",
    "\n",
    "print (\"Word level TF-IDF XGBoost results: \\n\")\n",
    "model_pred(X_train, y_train, X_test, y_test, vocab_dic)\n",
    "\n",
    "tfidf_cv = cv_modeling (X_train, y_train, X_test, y_test)\n",
    "print (\"\\nWord level TF-IDF XGBoost cv results: \\n\")\n",
    "print (tfidf_cv)"
   ]
  },
  {
   "cell_type": "code",
   "execution_count": 11,
   "metadata": {},
   "outputs": [
    {
     "name": "stdout",
     "output_type": "stream",
     "text": [
      "Ngram level TF-IDF XGBoost results: \n",
      "\n",
      "\n",
      "Model Report: \n",
      "\n",
      "Auc Train Score: 0.9983\n",
      "Auc Test Score: 0.973307\n",
      "Detailed classification report: \n",
      "\n",
      "              precision    recall  f1-score   support\n",
      "\n",
      "           0       0.95      0.94      0.95       192\n",
      "           1       0.83      0.84      0.84        64\n",
      "\n",
      "    accuracy                           0.92       256\n",
      "   macro avg       0.89      0.89      0.89       256\n",
      "weighted avg       0.92      0.92      0.92       256\n",
      "\n",
      "\n",
      "Ngram level TF-IDF XGBoost cv results: \n",
      "\n",
      "   fit_time  score_time  test_score  train_score\n",
      "0  3.228444    0.003490    0.986631     0.998040\n",
      "1  3.146484    0.003250    0.930481     0.998418\n",
      "2  3.094845    0.003495    0.868984     0.998220\n",
      "3  3.264263    0.003302    0.966942     0.998333\n",
      "4  3.113185    0.003384    0.912121     0.998245\n",
      "5  3.211669    0.003222    0.943939     0.998883\n",
      "6  3.123946    0.003374    0.893939     0.998883\n",
      "7  3.251308    0.003551    0.984848     0.997996\n",
      "8  3.157065    0.003334    0.939394     0.998245\n",
      "9  3.130675    0.003212    0.918182     0.998262\n"
     ]
    },
    {
     "data": {
      "image/png": "[encoded data removed]",
      "text/plain": [
       "<Figure size 432x288 with 1 Axes>"
      ]
     },
     "metadata": {
      "needs_background": "light"
     },
     "output_type": "display_data"
    }
   ],
   "source": [
    "X_train, y_train, X_test, y_test, vocab_dic = extract_features(training, test, \"Ngram_TFIDF\", 2000)\n",
    "\n",
    "print (\"Ngram level TF-IDF XGBoost results: \\n\")\n",
    "model_pred(X_train, y_train, X_test, y_test, vocab_dic)\n",
    "ngram_cv = cv_modeling (X_train, y_train, X_test, y_test)\n",
    "print (\"\\nNgram level TF-IDF XGBoost cv results: \\n\")\n",
    "print (ngram_cv)"
   ]
  }
 ],
 "metadata": {
  "kernelspec": {
   "display_name": "Python 3",
   "language": "python",
   "name": "python3"
  },
  "language_info": {
   "codemirror_mode": {
    "name": "ipython",
    "version": 3
   },
   "file_extension": ".py",
   "mimetype": "text/x-python",
   "name": "python",
   "nbconvert_exporter": "python",
   "pygments_lexer": "ipython3",
   "version": "3.7.4"
  }
 },
 "nbformat": 4,
 "nbformat_minor": 2
}
